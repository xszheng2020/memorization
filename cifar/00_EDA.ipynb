{
 "cells": [
  {
   "cell_type": "code",
   "execution_count": 1,
   "metadata": {},
   "outputs": [],
   "source": [
    "import os\n",
    "\n",
    "os.environ[\"CUDA_DEVICE_ORDER\"]=\"PCI_BUS_ID\"   \n",
    "os.environ[\"CUDA_VISIBLE_DEVICES\"]='13'"
   ]
  },
  {
   "cell_type": "code",
   "execution_count": 2,
   "metadata": {},
   "outputs": [],
   "source": [
    "random_seed = 42"
   ]
  },
  {
   "cell_type": "code",
   "execution_count": 3,
   "metadata": {},
   "outputs": [],
   "source": [
    "import pickle"
   ]
  },
  {
   "cell_type": "code",
   "execution_count": 4,
   "metadata": {},
   "outputs": [],
   "source": [
    "import random\n",
    "random.seed(random_seed)\n",
    "import numpy as np\n",
    "np.random.seed(random_seed)\n",
    "import pandas as pd\n",
    "pd.set_option('max_colwidth', 256)"
   ]
  },
  {
   "cell_type": "code",
   "execution_count": 5,
   "metadata": {},
   "outputs": [],
   "source": [
    "import matplotlib.pyplot as plt\n",
    "from IPython.display import set_matplotlib_formats\n",
    "\n",
    "%matplotlib inline\n",
    "set_matplotlib_formats('svg')"
   ]
  },
  {
   "cell_type": "code",
   "execution_count": 6,
   "metadata": {},
   "outputs": [],
   "source": [
    "import torch\n",
    "import torch.nn as nn\n",
    "from torch.nn import functional as F"
   ]
  },
  {
   "cell_type": "code",
   "execution_count": 7,
   "metadata": {},
   "outputs": [],
   "source": [
    "torch.manual_seed(random_seed)\n",
    "torch.backends.cudnn.deterministic = True\n",
    "torch.backends.cudnn.benchmark = False"
   ]
  },
  {
   "cell_type": "code",
   "execution_count": 8,
   "metadata": {},
   "outputs": [],
   "source": [
    "import torchvision\n",
    "import torchvision.transforms as transforms\n",
    "import torchvision.transforms.functional as TF\n",
    "\n",
    "from torchvision import models"
   ]
  },
  {
   "cell_type": "code",
   "execution_count": null,
   "metadata": {},
   "outputs": [],
   "source": []
  },
  {
   "cell_type": "code",
   "execution_count": 9,
   "metadata": {},
   "outputs": [],
   "source": [
    "input_size = 224\n",
    "\n",
    "# transform_train = transforms.Compose([\n",
    "#         transforms.RandomResizedCrop(input_size),\n",
    "#         transforms.RandomHorizontalFlip(),\n",
    "#         transforms.ToTensor(),\n",
    "#         transforms.Normalize([0.485, 0.456, 0.406], [0.229, 0.224, 0.225])\n",
    "# ])\n",
    "\n",
    "transform_test = transforms.Compose([\n",
    "        transforms.Resize(input_size),\n",
    "        transforms.CenterCrop(input_size),\n",
    "        transforms.ToTensor(),\n",
    "        transforms.Normalize([0.485, 0.456, 0.406], [0.229, 0.224, 0.225])\n",
    "])"
   ]
  },
  {
   "cell_type": "code",
   "execution_count": 10,
   "metadata": {},
   "outputs": [],
   "source": [
    "trainset = torchvision.datasets.CIFAR10(root='./data', train=True, download=False, transform=transform_test)\n",
    "trainloader = torch.utils.data.DataLoader(trainset, batch_size=1, shuffle=False, num_workers=32)\n",
    "\n",
    "testset = torchvision.datasets.CIFAR10(root='./data', train=False, download=False, transform=transform_test)\n",
    "testloader = torch.utils.data.DataLoader(testset, batch_size=1, shuffle=False, num_workers=32)"
   ]
  },
  {
   "cell_type": "code",
   "execution_count": 11,
   "metadata": {},
   "outputs": [
    {
     "name": "stdout",
     "output_type": "stream",
     "text": [
      "done\n"
     ]
    }
   ],
   "source": [
    "net = models.resnet50(pretrained=True)\n",
    "net = nn.Sequential(*list(net.children())[:-2])\n",
    "\n",
    "net.cuda()\n",
    "net.eval()\n",
    "\n",
    "print('done')"
   ]
  },
  {
   "cell_type": "code",
   "execution_count": 12,
   "metadata": {},
   "outputs": [],
   "source": [
    "from tqdm import tqdm"
   ]
  },
  {
   "cell_type": "code",
   "execution_count": 13,
   "metadata": {},
   "outputs": [
    {
     "name": "stderr",
     "output_type": "stream",
     "text": [
      "100%|██████████| 50000/50000 [10:17<00:00, 80.93it/s]\n"
     ]
    }
   ],
   "source": [
    "random.seed(42)\n",
    "np.random.seed(42)\n",
    "torch.manual_seed(42)\n",
    "torch.backends.cudnn.deterministic = True\n",
    "torch.backends.cudnn.benchmark = False\n",
    "\n",
    "train_labels_list = []\n",
    "\n",
    "with torch.no_grad():\n",
    "    for idx, data in tqdm(enumerate(trainloader), total=len(trainloader)):\n",
    "        inputs, labels = data\n",
    "            \n",
    "        inputs = inputs.cuda()        \n",
    "        labels = labels.cuda()\n",
    "        \n",
    "        with torch.no_grad():\n",
    "            features = net(inputs) # bs 512 7 7\n",
    "        with open('./data/cifar_10/train/{}.npy'.format(str(idx)), 'wb') as f:\n",
    "            np.save(f, features.detach().cpu().numpy())\n",
    "                    \n",
    "        train_labels_list.append(labels)\n",
    "\n",
    "    train_labels = torch.cat(train_labels_list, dim=0).detach().cpu().numpy() # 5000 1"
   ]
  },
  {
   "cell_type": "code",
   "execution_count": null,
   "metadata": {},
   "outputs": [],
   "source": []
  },
  {
   "cell_type": "code",
   "execution_count": 23,
   "metadata": {},
   "outputs": [
    {
     "data": {
      "text/html": [
       "<div>\n",
       "<style scoped>\n",
       "    .dataframe tbody tr th:only-of-type {\n",
       "        vertical-align: middle;\n",
       "    }\n",
       "\n",
       "    .dataframe tbody tr th {\n",
       "        vertical-align: top;\n",
       "    }\n",
       "\n",
       "    .dataframe thead th {\n",
       "        text-align: right;\n",
       "    }\n",
       "</style>\n",
       "<table border=\"1\" class=\"dataframe\">\n",
       "  <thead>\n",
       "    <tr style=\"text-align: right;\">\n",
       "      <th></th>\n",
       "      <th>cifar_index</th>\n",
       "      <th>label</th>\n",
       "    </tr>\n",
       "  </thead>\n",
       "  <tbody>\n",
       "    <tr>\n",
       "      <th>0</th>\n",
       "      <td>0</td>\n",
       "      <td>6</td>\n",
       "    </tr>\n",
       "    <tr>\n",
       "      <th>1</th>\n",
       "      <td>1</td>\n",
       "      <td>9</td>\n",
       "    </tr>\n",
       "    <tr>\n",
       "      <th>2</th>\n",
       "      <td>2</td>\n",
       "      <td>9</td>\n",
       "    </tr>\n",
       "    <tr>\n",
       "      <th>3</th>\n",
       "      <td>3</td>\n",
       "      <td>4</td>\n",
       "    </tr>\n",
       "    <tr>\n",
       "      <th>4</th>\n",
       "      <td>4</td>\n",
       "      <td>1</td>\n",
       "    </tr>\n",
       "  </tbody>\n",
       "</table>\n",
       "</div>"
      ],
      "text/plain": [
       "   cifar_index  label\n",
       "0            0      6\n",
       "1            1      9\n",
       "2            2      9\n",
       "3            3      4\n",
       "4            4      1"
      ]
     },
     "execution_count": 23,
     "metadata": {},
     "output_type": "execute_result"
    }
   ],
   "source": [
    "data = []\n",
    "for i in range(len(train_labels)):\n",
    "    data.append([i, train_labels[i]])\n",
    "\n",
    "df_0 = pd.DataFrame(data, columns=['cifar_index','label'])\n",
    "df_0.head()"
   ]
  },
  {
   "cell_type": "code",
   "execution_count": 24,
   "metadata": {},
   "outputs": [
    {
     "name": "stdout",
     "output_type": "stream",
     "text": [
      "<class 'pandas.core.frame.DataFrame'>\n",
      "RangeIndex: 50000 entries, 0 to 49999\n",
      "Data columns (total 2 columns):\n",
      "cifar_index    50000 non-null int64\n",
      "label          50000 non-null int64\n",
      "dtypes: int64(2)\n",
      "memory usage: 781.3 KB\n"
     ]
    }
   ],
   "source": [
    "df_0.info()"
   ]
  },
  {
   "cell_type": "code",
   "execution_count": 25,
   "metadata": {},
   "outputs": [],
   "source": [
    "df_0.to_csv('data/train.csv', index=False)"
   ]
  },
  {
   "cell_type": "code",
   "execution_count": null,
   "metadata": {},
   "outputs": [],
   "source": []
  },
  {
   "cell_type": "code",
   "execution_count": 11,
   "metadata": {},
   "outputs": [
    {
     "name": "stdout",
     "output_type": "stream",
     "text": [
      "<class 'pandas.core.frame.DataFrame'>\n",
      "RangeIndex: 50000 entries, 0 to 49999\n",
      "Data columns (total 2 columns):\n",
      "cifar_index    50000 non-null int64\n",
      "label          50000 non-null int64\n",
      "dtypes: int64(2)\n",
      "memory usage: 781.3 KB\n"
     ]
    }
   ],
   "source": [
    "df_0 = pd.read_csv('data/train.csv')\n",
    "df_0.info()"
   ]
  },
  {
   "cell_type": "code",
   "execution_count": 12,
   "metadata": {},
   "outputs": [],
   "source": [
    "from sklearn.model_selection import train_test_split\n",
    "_, df_0_sampled = train_test_split(df_0, test_size=0.3, \n",
    "                                   random_state=random_seed, \n",
    "                                   stratify=df_0['label'])"
   ]
  },
  {
   "cell_type": "code",
   "execution_count": 13,
   "metadata": {},
   "outputs": [
    {
     "data": {
      "text/html": [
       "<div>\n",
       "<style scoped>\n",
       "    .dataframe tbody tr th:only-of-type {\n",
       "        vertical-align: middle;\n",
       "    }\n",
       "\n",
       "    .dataframe tbody tr th {\n",
       "        vertical-align: top;\n",
       "    }\n",
       "\n",
       "    .dataframe thead th {\n",
       "        text-align: right;\n",
       "    }\n",
       "</style>\n",
       "<table border=\"1\" class=\"dataframe\">\n",
       "  <thead>\n",
       "    <tr style=\"text-align: right;\">\n",
       "      <th></th>\n",
       "      <th>cifar_index</th>\n",
       "      <th>label</th>\n",
       "    </tr>\n",
       "  </thead>\n",
       "  <tbody>\n",
       "    <tr>\n",
       "      <th>39264</th>\n",
       "      <td>39264</td>\n",
       "      <td>9</td>\n",
       "    </tr>\n",
       "    <tr>\n",
       "      <th>18869</th>\n",
       "      <td>18869</td>\n",
       "      <td>7</td>\n",
       "    </tr>\n",
       "    <tr>\n",
       "      <th>11313</th>\n",
       "      <td>11313</td>\n",
       "      <td>2</td>\n",
       "    </tr>\n",
       "    <tr>\n",
       "      <th>26085</th>\n",
       "      <td>26085</td>\n",
       "      <td>6</td>\n",
       "    </tr>\n",
       "    <tr>\n",
       "      <th>22976</th>\n",
       "      <td>22976</td>\n",
       "      <td>8</td>\n",
       "    </tr>\n",
       "  </tbody>\n",
       "</table>\n",
       "</div>"
      ],
      "text/plain": [
       "       cifar_index  label\n",
       "39264        39264      9\n",
       "18869        18869      7\n",
       "11313        11313      2\n",
       "26085        26085      6\n",
       "22976        22976      8"
      ]
     },
     "execution_count": 13,
     "metadata": {},
     "output_type": "execute_result"
    }
   ],
   "source": [
    "df_0_sampled.head()"
   ]
  },
  {
   "cell_type": "code",
   "execution_count": 14,
   "metadata": {},
   "outputs": [
    {
     "data": {
      "text/plain": [
       "7    1500\n",
       "6    1500\n",
       "5    1500\n",
       "4    1500\n",
       "3    1500\n",
       "2    1500\n",
       "9    1500\n",
       "1    1500\n",
       "8    1500\n",
       "0    1500\n",
       "Name: label, dtype: int64"
      ]
     },
     "execution_count": 14,
     "metadata": {},
     "output_type": "execute_result"
    }
   ],
   "source": [
    "df_0_sampled['label'].value_counts()"
   ]
  },
  {
   "cell_type": "code",
   "execution_count": null,
   "metadata": {},
   "outputs": [],
   "source": []
  },
  {
   "cell_type": "code",
   "execution_count": 15,
   "metadata": {},
   "outputs": [],
   "source": [
    "df_0_sampled_train, df_0_sampled_dev = train_test_split(df_0_sampled, test_size=5000, \n",
    "                                                        random_state=random_seed, \n",
    "                                                        stratify=df_0_sampled['label'])"
   ]
  },
  {
   "cell_type": "code",
   "execution_count": 16,
   "metadata": {},
   "outputs": [],
   "source": [
    "df_0_sampled_train.to_csv('data/train_10000.csv', index=False)"
   ]
  },
  {
   "cell_type": "code",
   "execution_count": 17,
   "metadata": {},
   "outputs": [],
   "source": [
    "df_0_sampled_dev.to_csv('data/dev_5000.csv', index=False)"
   ]
  },
  {
   "cell_type": "code",
   "execution_count": null,
   "metadata": {},
   "outputs": [],
   "source": []
  },
  {
   "cell_type": "code",
   "execution_count": 33,
   "metadata": {},
   "outputs": [
    {
     "name": "stderr",
     "output_type": "stream",
     "text": [
      "100%|██████████| 10000/10000 [02:08<00:00, 77.78it/s]\n"
     ]
    }
   ],
   "source": [
    "random.seed(42)\n",
    "np.random.seed(42)\n",
    "torch.manual_seed(42)\n",
    "torch.backends.cudnn.deterministic = True\n",
    "torch.backends.cudnn.benchmark = False\n",
    "\n",
    "test_labels_list = []\n",
    "\n",
    "with torch.no_grad():\n",
    "    for idx, data in tqdm(enumerate(testloader), total=len(testloader)):\n",
    "        inputs, labels = data\n",
    "            \n",
    "        inputs = inputs.cuda()        \n",
    "        labels = labels.cuda()\n",
    "        \n",
    "        with torch.no_grad():\n",
    "            features = net(inputs) # bs 512 7 7\n",
    "        with open('./data/cifar_10/test/{}.npy'.format(str(idx)), 'wb') as f:\n",
    "            np.save(f, features.detach().cpu().numpy())\n",
    "                    \n",
    "        test_labels_list.append(labels)\n",
    "\n",
    "    test_labels = torch.cat(test_labels_list, dim=0).detach().cpu().numpy() # 5000 1"
   ]
  },
  {
   "cell_type": "code",
   "execution_count": 34,
   "metadata": {},
   "outputs": [
    {
     "data": {
      "text/html": [
       "<div>\n",
       "<style scoped>\n",
       "    .dataframe tbody tr th:only-of-type {\n",
       "        vertical-align: middle;\n",
       "    }\n",
       "\n",
       "    .dataframe tbody tr th {\n",
       "        vertical-align: top;\n",
       "    }\n",
       "\n",
       "    .dataframe thead th {\n",
       "        text-align: right;\n",
       "    }\n",
       "</style>\n",
       "<table border=\"1\" class=\"dataframe\">\n",
       "  <thead>\n",
       "    <tr style=\"text-align: right;\">\n",
       "      <th></th>\n",
       "      <th>cifar_index</th>\n",
       "      <th>label</th>\n",
       "    </tr>\n",
       "  </thead>\n",
       "  <tbody>\n",
       "    <tr>\n",
       "      <th>0</th>\n",
       "      <td>0</td>\n",
       "      <td>3</td>\n",
       "    </tr>\n",
       "    <tr>\n",
       "      <th>1</th>\n",
       "      <td>1</td>\n",
       "      <td>8</td>\n",
       "    </tr>\n",
       "    <tr>\n",
       "      <th>2</th>\n",
       "      <td>2</td>\n",
       "      <td>8</td>\n",
       "    </tr>\n",
       "    <tr>\n",
       "      <th>3</th>\n",
       "      <td>3</td>\n",
       "      <td>0</td>\n",
       "    </tr>\n",
       "    <tr>\n",
       "      <th>4</th>\n",
       "      <td>4</td>\n",
       "      <td>6</td>\n",
       "    </tr>\n",
       "  </tbody>\n",
       "</table>\n",
       "</div>"
      ],
      "text/plain": [
       "   cifar_index  label\n",
       "0            0      3\n",
       "1            1      8\n",
       "2            2      8\n",
       "3            3      0\n",
       "4            4      6"
      ]
     },
     "execution_count": 34,
     "metadata": {},
     "output_type": "execute_result"
    }
   ],
   "source": [
    "data = []\n",
    "for i in range(len(test_labels)):\n",
    "    data.append([i, test_labels[i]])\n",
    "\n",
    "df_1 = pd.DataFrame(data, columns=['cifar_index','label'])\n",
    "df_1.head()"
   ]
  },
  {
   "cell_type": "code",
   "execution_count": 35,
   "metadata": {},
   "outputs": [
    {
     "name": "stdout",
     "output_type": "stream",
     "text": [
      "<class 'pandas.core.frame.DataFrame'>\n",
      "RangeIndex: 10000 entries, 0 to 9999\n",
      "Data columns (total 2 columns):\n",
      "cifar_index    10000 non-null int64\n",
      "label          10000 non-null int64\n",
      "dtypes: int64(2)\n",
      "memory usage: 156.3 KB\n"
     ]
    }
   ],
   "source": [
    "df_1.info()"
   ]
  },
  {
   "cell_type": "code",
   "execution_count": 36,
   "metadata": {},
   "outputs": [],
   "source": [
    "df_1.to_csv('data/test.csv', index=False)"
   ]
  },
  {
   "cell_type": "code",
   "execution_count": null,
   "metadata": {},
   "outputs": [],
   "source": []
  },
  {
   "cell_type": "code",
   "execution_count": 37,
   "metadata": {},
   "outputs": [
    {
     "data": {
      "text/plain": [
       "(1, 2048, 7, 7)"
      ]
     },
     "execution_count": 37,
     "metadata": {},
     "output_type": "execute_result"
    }
   ],
   "source": [
    "with open('./data/cifar_10/test/0.npy', 'rb') as f:\n",
    "    tmp = np.load(f)\n",
    "tmp.shape"
   ]
  },
  {
   "cell_type": "code",
   "execution_count": null,
   "metadata": {},
   "outputs": [],
   "source": []
  },
  {
   "cell_type": "code",
   "execution_count": 18,
   "metadata": {},
   "outputs": [
    {
     "name": "stdout",
     "output_type": "stream",
     "text": [
      "0 0\n",
      "7    1000\n",
      "6    1000\n",
      "5    1000\n",
      "4    1000\n",
      "3    1000\n",
      "2    1000\n",
      "9    1000\n",
      "1    1000\n",
      "8    1000\n",
      "0    1000\n",
      "Name: label, dtype: int64\n",
      "10 1000\n",
      "8    919\n",
      "7    904\n",
      "6    904\n",
      "2    903\n",
      "0    902\n",
      "5    898\n",
      "3    898\n",
      "9    893\n",
      "1    890\n",
      "4    889\n",
      "Name: label, dtype: int64\n",
      "20 2000\n",
      "8    826\n",
      "6    809\n",
      "5    803\n",
      "7    802\n",
      "2    802\n",
      "3    797\n",
      "1    796\n",
      "0    796\n",
      "9    792\n",
      "4    777\n",
      "Name: label, dtype: int64\n",
      "30 3000\n",
      "6    719\n",
      "5    713\n",
      "8    711\n",
      "9    703\n",
      "3    700\n",
      "7    699\n",
      "2    694\n",
      "1    692\n",
      "0    691\n",
      "4    678\n",
      "Name: label, dtype: int64\n",
      "40 4000\n",
      "3    614\n",
      "6    612\n",
      "7    611\n",
      "5    604\n",
      "1    604\n",
      "8    600\n",
      "0    596\n",
      "2    592\n",
      "9    590\n",
      "4    577\n",
      "Name: label, dtype: int64\n",
      "50 5000\n",
      "3    526\n",
      "5    510\n",
      "6    508\n",
      "7    505\n",
      "8    505\n",
      "0    499\n",
      "1    495\n",
      "9    492\n",
      "2    485\n",
      "4    475\n",
      "Name: label, dtype: int64\n",
      "60 6000\n",
      "3    424\n",
      "5    416\n",
      "8    409\n",
      "6    407\n",
      "0    404\n",
      "1    397\n",
      "7    395\n",
      "2    393\n",
      "9    381\n",
      "4    374\n",
      "Name: label, dtype: int64\n",
      "70 7000\n",
      "3    325\n",
      "5    323\n",
      "1    312\n",
      "8    308\n",
      "6    306\n",
      "0    297\n",
      "2    291\n",
      "9    288\n",
      "7    281\n",
      "4    269\n",
      "Name: label, dtype: int64\n",
      "80 8000\n",
      "5    221\n",
      "1    220\n",
      "3    215\n",
      "8    204\n",
      "6    199\n",
      "0    199\n",
      "9    193\n",
      "7    189\n",
      "2    184\n",
      "4    176\n",
      "Name: label, dtype: int64\n",
      "90 9000\n",
      "1    112\n",
      "3    111\n",
      "7    107\n",
      "8    102\n",
      "5    102\n",
      "0    102\n",
      "6     97\n",
      "9     95\n",
      "2     87\n",
      "4     85\n",
      "Name: label, dtype: int64\n"
     ]
    }
   ],
   "source": [
    "total = len(df_0_sampled_train)\n",
    "for percentage in range(0, 100, 10):\n",
    "    k = int(total*(percentage/100))\n",
    "    print(percentage, k)\n",
    "    \n",
    "    tmp = df_0_sampled_train.sample(k, \n",
    "                       random_state=0\n",
    "                      )\n",
    "\n",
    "    tmp = df_0_sampled_train.drop(tmp.index)\n",
    "    print(tmp['label'].value_counts())\n",
    "    \n",
    "    filename = \"data/random_0/{}.csv\".format(percentage)\n",
    "    os.makedirs(os.path.dirname(filename), exist_ok=True)\n",
    "    \n",
    "    tmp[['cifar_index', 'label']].to_csv(filename, index=False)"
   ]
  },
  {
   "cell_type": "code",
   "execution_count": null,
   "metadata": {},
   "outputs": [],
   "source": []
  },
  {
   "cell_type": "code",
   "execution_count": 19,
   "metadata": {},
   "outputs": [
    {
     "name": "stdout",
     "output_type": "stream",
     "text": [
      "0 0\n",
      "7    1000\n",
      "6    1000\n",
      "5    1000\n",
      "4    1000\n",
      "3    1000\n",
      "2    1000\n",
      "9    1000\n",
      "1    1000\n",
      "8    1000\n",
      "0    1000\n",
      "Name: label, dtype: int64\n",
      "10 1000\n",
      "7    908\n",
      "9    906\n",
      "0    906\n",
      "5    905\n",
      "1    902\n",
      "8    901\n",
      "2    896\n",
      "4    895\n",
      "3    895\n",
      "6    886\n",
      "Name: label, dtype: int64\n",
      "20 2000\n",
      "5    821\n",
      "0    809\n",
      "4    807\n",
      "2    804\n",
      "7    803\n",
      "9    803\n",
      "3    794\n",
      "8    790\n",
      "6    786\n",
      "1    783\n",
      "Name: label, dtype: int64\n",
      "30 3000\n",
      "2    714\n",
      "4    714\n",
      "7    710\n",
      "5    710\n",
      "3    700\n",
      "0    697\n",
      "8    694\n",
      "9    693\n",
      "6    689\n",
      "1    679\n",
      "Name: label, dtype: int64\n",
      "40 4000\n",
      "2    618\n",
      "4    618\n",
      "7    615\n",
      "5    611\n",
      "9    603\n",
      "0    592\n",
      "8    589\n",
      "6    588\n",
      "3    585\n",
      "1    581\n",
      "Name: label, dtype: int64\n",
      "50 5000\n",
      "7    537\n",
      "4    522\n",
      "5    520\n",
      "2    507\n",
      "9    507\n",
      "3    496\n",
      "6    480\n",
      "1    480\n",
      "0    478\n",
      "8    473\n",
      "Name: label, dtype: int64\n",
      "60 6000\n",
      "7    441\n",
      "5    417\n",
      "4    416\n",
      "2    416\n",
      "9    407\n",
      "3    404\n",
      "0    382\n",
      "6    378\n",
      "1    371\n",
      "8    368\n",
      "Name: label, dtype: int64\n",
      "70 7000\n",
      "5    327\n",
      "7    318\n",
      "4    315\n",
      "3    312\n",
      "2    311\n",
      "9    303\n",
      "8    282\n",
      "0    279\n",
      "6    278\n",
      "1    275\n",
      "Name: label, dtype: int64\n",
      "80 8000\n",
      "7    224\n",
      "4    216\n",
      "5    215\n",
      "9    207\n",
      "3    203\n",
      "2    198\n",
      "8    192\n",
      "1    185\n",
      "6    183\n",
      "0    177\n",
      "Name: label, dtype: int64\n",
      "90 9000\n",
      "7    113\n",
      "9    112\n",
      "3    108\n",
      "2    105\n",
      "4    102\n",
      "5     99\n",
      "8     96\n",
      "1     94\n",
      "0     86\n",
      "6     85\n",
      "Name: label, dtype: int64\n"
     ]
    }
   ],
   "source": [
    "total = len(df_0_sampled_train)\n",
    "for percentage in range(0, 100, 10):\n",
    "    k = int(total*(percentage/100))\n",
    "    print(percentage, k)\n",
    "    \n",
    "    tmp = df_0_sampled_train.sample(k, \n",
    "                       random_state=2\n",
    "                      )\n",
    "\n",
    "    tmp = df_0_sampled_train.drop(tmp.index)\n",
    "    print(tmp['label'].value_counts())\n",
    "    \n",
    "    filename = \"data/random_2/{}.csv\".format(percentage)\n",
    "    os.makedirs(os.path.dirname(filename), exist_ok=True)\n",
    "    \n",
    "    tmp[['cifar_index', 'label']].to_csv(filename, index=False)"
   ]
  },
  {
   "cell_type": "code",
   "execution_count": null,
   "metadata": {},
   "outputs": [],
   "source": []
  },
  {
   "cell_type": "code",
   "execution_count": 20,
   "metadata": {},
   "outputs": [
    {
     "name": "stdout",
     "output_type": "stream",
     "text": [
      "0 0\n",
      "7    1000\n",
      "6    1000\n",
      "5    1000\n",
      "4    1000\n",
      "3    1000\n",
      "2    1000\n",
      "9    1000\n",
      "1    1000\n",
      "8    1000\n",
      "0    1000\n",
      "Name: label, dtype: int64\n",
      "10 1000\n",
      "5    911\n",
      "1    911\n",
      "3    909\n",
      "7    906\n",
      "2    903\n",
      "6    897\n",
      "9    894\n",
      "4    893\n",
      "0    889\n",
      "8    887\n",
      "Name: label, dtype: int64\n",
      "20 2000\n",
      "7    815\n",
      "3    814\n",
      "6    808\n",
      "5    804\n",
      "0    799\n",
      "1    798\n",
      "9    794\n",
      "8    792\n",
      "4    792\n",
      "2    784\n",
      "Name: label, dtype: int64\n",
      "30 3000\n",
      "6    728\n",
      "7    715\n",
      "3    713\n",
      "5    703\n",
      "1    703\n",
      "4    694\n",
      "8    691\n",
      "2    690\n",
      "0    684\n",
      "9    679\n",
      "Name: label, dtype: int64\n",
      "40 4000\n",
      "7    627\n",
      "6    615\n",
      "3    606\n",
      "8    602\n",
      "2    601\n",
      "4    595\n",
      "5    593\n",
      "1    591\n",
      "9    585\n",
      "0    585\n",
      "Name: label, dtype: int64\n",
      "50 5000\n",
      "2    521\n",
      "7    518\n",
      "6    507\n",
      "3    503\n",
      "8    499\n",
      "1    497\n",
      "4    495\n",
      "5    492\n",
      "0    490\n",
      "9    478\n",
      "Name: label, dtype: int64\n",
      "60 6000\n",
      "7    425\n",
      "8    410\n",
      "6    407\n",
      "2    405\n",
      "0    404\n",
      "4    399\n",
      "5    397\n",
      "1    394\n",
      "3    389\n",
      "9    370\n",
      "Name: label, dtype: int64\n",
      "70 7000\n",
      "7    318\n",
      "2    314\n",
      "0    312\n",
      "8    311\n",
      "4    307\n",
      "6    300\n",
      "1    296\n",
      "5    285\n",
      "3    284\n",
      "9    273\n",
      "Name: label, dtype: int64\n",
      "80 8000\n",
      "7    222\n",
      "8    210\n",
      "4    208\n",
      "0    208\n",
      "1    204\n",
      "6    203\n",
      "2    200\n",
      "3    185\n",
      "5    183\n",
      "9    177\n",
      "Name: label, dtype: int64\n",
      "90 9000\n",
      "7    119\n",
      "1    119\n",
      "6    108\n",
      "8    107\n",
      "0    104\n",
      "4    103\n",
      "9     92\n",
      "2     85\n",
      "5     82\n",
      "3     81\n",
      "Name: label, dtype: int64\n"
     ]
    }
   ],
   "source": [
    "total = len(df_0_sampled_train)\n",
    "for percentage in range(0, 100, 10):\n",
    "    k = int(total*(percentage/100))\n",
    "    print(percentage, k)\n",
    "    \n",
    "    tmp = df_0_sampled_train.sample(k, \n",
    "                       random_state=42\n",
    "                      )\n",
    "\n",
    "    tmp = df_0_sampled_train.drop(tmp.index)\n",
    "    print(tmp['label'].value_counts())\n",
    "    \n",
    "    filename = \"data/random/{}.csv\".format(percentage)\n",
    "    os.makedirs(os.path.dirname(filename), exist_ok=True)\n",
    "    \n",
    "    tmp[['cifar_index', 'label']].to_csv(filename, index=False)"
   ]
  },
  {
   "cell_type": "code",
   "execution_count": null,
   "metadata": {},
   "outputs": [],
   "source": []
  },
  {
   "cell_type": "code",
   "execution_count": null,
   "metadata": {},
   "outputs": [],
   "source": []
  }
 ],
 "metadata": {
  "kernelspec": {
   "display_name": "Python 3",
   "language": "python",
   "name": "python3"
  },
  "language_info": {
   "codemirror_mode": {
    "name": "ipython",
    "version": 3
   },
   "file_extension": ".py",
   "mimetype": "text/x-python",
   "name": "python",
   "nbconvert_exporter": "python",
   "pygments_lexer": "ipython3",
   "version": "3.6.10"
  }
 },
 "nbformat": 4,
 "nbformat_minor": 4
}
