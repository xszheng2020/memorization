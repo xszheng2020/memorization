{
 "cells": [
  {
   "cell_type": "code",
   "execution_count": 35,
   "metadata": {},
   "outputs": [],
   "source": [
    "import os "
   ]
  },
  {
   "cell_type": "code",
   "execution_count": 36,
   "metadata": {},
   "outputs": [],
   "source": [
    "random_seed = 42"
   ]
  },
  {
   "cell_type": "code",
   "execution_count": 37,
   "metadata": {},
   "outputs": [],
   "source": [
    "import csv"
   ]
  },
  {
   "cell_type": "code",
   "execution_count": 38,
   "metadata": {},
   "outputs": [],
   "source": [
    "import random\n",
    "random.seed(random_seed)\n",
    "import numpy as np\n",
    "np.random.seed(random_seed)\n",
    "import pandas as pd\n",
    "pd.set_option('max_colwidth', 256)"
   ]
  },
  {
   "cell_type": "code",
   "execution_count": 39,
   "metadata": {},
   "outputs": [],
   "source": [
    "from sklearn.model_selection import train_test_split"
   ]
  },
  {
   "cell_type": "code",
   "execution_count": null,
   "metadata": {},
   "outputs": [],
   "source": []
  },
  {
   "cell_type": "code",
   "execution_count": 40,
   "metadata": {},
   "outputs": [],
   "source": [
    "data_path = \"data/yahoo_answers_csv/\""
   ]
  },
  {
   "cell_type": "code",
   "execution_count": 41,
   "metadata": {},
   "outputs": [],
   "source": [
    "classes = {\n",
    "    0: \"Society & Culture\",\n",
    "    1: \"Science & Mathematics\",\n",
    "    2: \"Health\",\n",
    "    3: \"Education & Reference\",\n",
    "    4: \"Computers & Internet\",\n",
    "    5: \"Sports\",\n",
    "    6: \"Business & Finance\",   \n",
    "    7: \"Entertainment & Music\",\n",
    "    8: \"Family & Relationships\",  \n",
    "    9: \"Politics & Government\",  \n",
    "}"
   ]
  },
  {
   "cell_type": "code",
   "execution_count": null,
   "metadata": {},
   "outputs": [],
   "source": []
  },
  {
   "cell_type": "code",
   "execution_count": 8,
   "metadata": {},
   "outputs": [],
   "source": [
    "# https://github.com/huggingface/datasets/blob/master/datasets/ag_news/ag_news.py\n",
    "train = pd.read_csv(data_path + 'train.csv', quotechar='\"', delimiter=\",\", quoting=csv.QUOTE_ALL, header=None)\n",
    "train.columns = ['label', 'title', 'content', 'answer']\n",
    "train['label'] = train['label']-1"
   ]
  },
  {
   "cell_type": "code",
   "execution_count": 9,
   "metadata": {},
   "outputs": [],
   "source": [
    "train = train.dropna()"
   ]
  },
  {
   "cell_type": "code",
   "execution_count": 10,
   "metadata": {},
   "outputs": [
    {
     "name": "stdout",
     "output_type": "stream",
     "text": [
      "<class 'pandas.core.frame.DataFrame'>\n",
      "Int64Index: 753655 entries, 0 to 1399998\n",
      "Data columns (total 4 columns):\n",
      "label      753655 non-null int64\n",
      "title      753655 non-null object\n",
      "content    753655 non-null object\n",
      "answer     753655 non-null object\n",
      "dtypes: int64(1), object(3)\n",
      "memory usage: 28.7+ MB\n"
     ]
    }
   ],
   "source": [
    "train.info()"
   ]
  },
  {
   "cell_type": "code",
   "execution_count": 11,
   "metadata": {},
   "outputs": [
    {
     "data": {
      "text/plain": [
       "8    88434\n",
       "0    85299\n",
       "9    81482\n",
       "7    80177\n",
       "2    77872\n",
       "4    75536\n",
       "3    68381\n",
       "1    67700\n",
       "5    65859\n",
       "6    62915\n",
       "Name: label, dtype: int64"
      ]
     },
     "execution_count": 11,
     "metadata": {},
     "output_type": "execute_result"
    }
   ],
   "source": [
    "train['label'].value_counts()"
   ]
  },
  {
   "cell_type": "code",
   "execution_count": 12,
   "metadata": {},
   "outputs": [
    {
     "name": "stdout",
     "output_type": "stream",
     "text": [
      "<class 'pandas.core.frame.DataFrame'>\n",
      "Int64Index: 20000 entries, 970813 to 899935\n",
      "Data columns (total 4 columns):\n",
      "label      20000 non-null int64\n",
      "title      20000 non-null object\n",
      "content    20000 non-null object\n",
      "answer     20000 non-null object\n",
      "dtypes: int64(1), object(3)\n",
      "memory usage: 781.2+ KB\n"
     ]
    }
   ],
   "source": [
    "for i in range(10):\n",
    "    if i==0:\n",
    "        train_ = train[train['label']==i].sample(2000, random_state=random_seed)\n",
    "    else:\n",
    "        train_ = train_.append(train[train['label']==i].sample(2000, random_state=random_seed))\n",
    "train_.info()"
   ]
  },
  {
   "cell_type": "code",
   "execution_count": null,
   "metadata": {},
   "outputs": [],
   "source": []
  },
  {
   "cell_type": "code",
   "execution_count": 13,
   "metadata": {
    "scrolled": true
   },
   "outputs": [],
   "source": [
    "train_['sentence'] = train_.apply(lambda x: \" ; \".join((x['title'], x['content'], x['answer'])), axis=1)\n",
    "train_ = train_[['label', 'sentence']]"
   ]
  },
  {
   "cell_type": "code",
   "execution_count": 14,
   "metadata": {},
   "outputs": [
    {
     "data": {
      "text/html": [
       "<div>\n",
       "<style scoped>\n",
       "    .dataframe tbody tr th:only-of-type {\n",
       "        vertical-align: middle;\n",
       "    }\n",
       "\n",
       "    .dataframe tbody tr th {\n",
       "        vertical-align: top;\n",
       "    }\n",
       "\n",
       "    .dataframe thead th {\n",
       "        text-align: right;\n",
       "    }\n",
       "</style>\n",
       "<table border=\"1\" class=\"dataframe\">\n",
       "  <thead>\n",
       "    <tr style=\"text-align: right;\">\n",
       "      <th></th>\n",
       "      <th>label</th>\n",
       "      <th>sentence</th>\n",
       "    </tr>\n",
       "  </thead>\n",
       "  <tbody>\n",
       "    <tr>\n",
       "      <th>970813</th>\n",
       "      <td>0</td>\n",
       "      <td>could a robot do your job..? ; i mean as in the way you make a living ; no..well not unless anyone invents a robot that lies around all day eating chocolate and editing HTML codes...</td>\n",
       "    </tr>\n",
       "    <tr>\n",
       "      <th>422744</th>\n",
       "      <td>0</td>\n",
       "      <td>My town is having Rev Trask day next week. Do you think my church will let me take next Sunday off ? ; I'll be exhausted from being grand marshall in the parade. ; Sure.  Are we waving as we walk or from the car?</td>\n",
       "    </tr>\n",
       "    <tr>\n",
       "      <th>1099121</th>\n",
       "      <td>0</td>\n",
       "      <td>Why are people so dumb....? ; I was just watching the news, when this story comes on about a crackhead who attempted to attack a police officer with a knife and was shot to death. Anyways...the news found one of the guys hood rat friends and he was lik...</td>\n",
       "    </tr>\n",
       "    <tr>\n",
       "      <th>244074</th>\n",
       "      <td>0</td>\n",
       "      <td>Are all...\"Christians\" going to Heaven? ; Why are there over 2,000 religious groups in America today? Why are there over 300 baptists groups? I thought there was only One Faith (Ephesians 4:5), I thought there was NO division (1 Corinthians 1:10), I th...</td>\n",
       "    </tr>\n",
       "    <tr>\n",
       "      <th>1064077</th>\n",
       "      <td>0</td>\n",
       "      <td>How can Intelligent Design be called intelligent? ; Why do humans get sick so easily? Why do our bones break when we fall? Why do we need glasses? Why all the aches and pains? Why do our teeth rot and break without proper care?\\n\\nGod was all powerful,...</td>\n",
       "    </tr>\n",
       "  </tbody>\n",
       "</table>\n",
       "</div>"
      ],
      "text/plain": [
       "         label  \\\n",
       "970813       0   \n",
       "422744       0   \n",
       "1099121      0   \n",
       "244074       0   \n",
       "1064077      0   \n",
       "\n",
       "                                                                                                                                                                                                                                                                sentence  \n",
       "970813                                                                            could a robot do your job..? ; i mean as in the way you make a living ; no..well not unless anyone invents a robot that lies around all day eating chocolate and editing HTML codes...  \n",
       "422744                                              My town is having Rev Trask day next week. Do you think my church will let me take next Sunday off ? ; I'll be exhausted from being grand marshall in the parade. ; Sure.  Are we waving as we walk or from the car?  \n",
       "1099121  Why are people so dumb....? ; I was just watching the news, when this story comes on about a crackhead who attempted to attack a police officer with a knife and was shot to death. Anyways...the news found one of the guys hood rat friends and he was lik...  \n",
       "244074   Are all...\"Christians\" going to Heaven? ; Why are there over 2,000 religious groups in America today? Why are there over 300 baptists groups? I thought there was only One Faith (Ephesians 4:5), I thought there was NO division (1 Corinthians 1:10), I th...  \n",
       "1064077  How can Intelligent Design be called intelligent? ; Why do humans get sick so easily? Why do our bones break when we fall? Why do we need glasses? Why all the aches and pains? Why do our teeth rot and break without proper care?\\n\\nGod was all powerful,...  "
      ]
     },
     "execution_count": 14,
     "metadata": {},
     "output_type": "execute_result"
    }
   ],
   "source": [
    "train_.head()"
   ]
  },
  {
   "cell_type": "code",
   "execution_count": 15,
   "metadata": {},
   "outputs": [],
   "source": [
    "train, dev = train_test_split(train_, test_size=10000, shuffle=True, random_state=random_seed, stratify=train_['label'])"
   ]
  },
  {
   "cell_type": "code",
   "execution_count": 16,
   "metadata": {},
   "outputs": [
    {
     "name": "stderr",
     "output_type": "stream",
     "text": [
      "/opt/conda/lib/python3.6/site-packages/ipykernel_launcher.py:1: SettingWithCopyWarning: \n",
      "A value is trying to be set on a copy of a slice from a DataFrame.\n",
      "Try using .loc[row_indexer,col_indexer] = value instead\n",
      "\n",
      "See the caveats in the documentation: http://pandas.pydata.org/pandas-docs/stable/indexing.html#indexing-view-versus-copy\n",
      "  \"\"\"Entry point for launching an IPython kernel.\n"
     ]
    },
    {
     "data": {
      "text/html": [
       "<div>\n",
       "<style scoped>\n",
       "    .dataframe tbody tr th:only-of-type {\n",
       "        vertical-align: middle;\n",
       "    }\n",
       "\n",
       "    .dataframe tbody tr th {\n",
       "        vertical-align: top;\n",
       "    }\n",
       "\n",
       "    .dataframe thead th {\n",
       "        text-align: right;\n",
       "    }\n",
       "</style>\n",
       "<table border=\"1\" class=\"dataframe\">\n",
       "  <thead>\n",
       "    <tr style=\"text-align: right;\">\n",
       "      <th></th>\n",
       "      <th>label</th>\n",
       "      <th>sentence</th>\n",
       "      <th>sample_index</th>\n",
       "    </tr>\n",
       "  </thead>\n",
       "  <tbody>\n",
       "    <tr>\n",
       "      <th>1194221</th>\n",
       "      <td>4</td>\n",
       "      <td>how can i open the site www.pmaftp.com i need the link to that site please? ; email addresses of individuals ; Here you go http://www.pmaftp.com/</td>\n",
       "      <td>0</td>\n",
       "    </tr>\n",
       "    <tr>\n",
       "      <th>677721</th>\n",
       "      <td>2</td>\n",
       "      <td>How old are U what  is your gender and at what age you would like to die at, and what is your stand for that? ; I am 32 Male and I would like to die at when I will be at the age of 60 or whenever I will be surrounded by the painful diseases. ; 27/f  I ...</td>\n",
       "      <td>1</td>\n",
       "    </tr>\n",
       "    <tr>\n",
       "      <th>677680</th>\n",
       "      <td>9</td>\n",
       "      <td>I am a 30 yr old South African, my father is a Australian citizen and lives there, do I qualify for residency? ; I also have an Australian aunt (my mothers' sister). both my father and aunt were born in South Africa but emigrated to Australia years ago...</td>\n",
       "      <td>2</td>\n",
       "    </tr>\n",
       "    <tr>\n",
       "      <th>503509</th>\n",
       "      <td>3</td>\n",
       "      <td>What is the best strategy for winning a student government election? ; for example, is it better to have a serious speech or a funny speech? plain, simple posters, or exciting posters? ; Is it highschool or college.  I was highschool class president on...</td>\n",
       "      <td>3</td>\n",
       "    </tr>\n",
       "    <tr>\n",
       "      <th>1110370</th>\n",
       "      <td>3</td>\n",
       "      <td>i want to MBA,I have financial problem,can any suggest to where i can satisfy by any good college.? ; my name is mohammed shakeel,from bangalore. ; Why you want to do MBA?\\nWhy there is financial problem?\\nWhy you want a good college?\\nThink, with your...</td>\n",
       "      <td>4</td>\n",
       "    </tr>\n",
       "  </tbody>\n",
       "</table>\n",
       "</div>"
      ],
      "text/plain": [
       "         label  \\\n",
       "1194221      4   \n",
       "677721       2   \n",
       "677680       9   \n",
       "503509       3   \n",
       "1110370      3   \n",
       "\n",
       "                                                                                                                                                                                                                                                                sentence  \\\n",
       "1194221                                                                                                                how can i open the site www.pmaftp.com i need the link to that site please? ; email addresses of individuals ; Here you go http://www.pmaftp.com/   \n",
       "677721   How old are U what  is your gender and at what age you would like to die at, and what is your stand for that? ; I am 32 Male and I would like to die at when I will be at the age of 60 or whenever I will be surrounded by the painful diseases. ; 27/f  I ...   \n",
       "677680   I am a 30 yr old South African, my father is a Australian citizen and lives there, do I qualify for residency? ; I also have an Australian aunt (my mothers' sister). both my father and aunt were born in South Africa but emigrated to Australia years ago...   \n",
       "503509   What is the best strategy for winning a student government election? ; for example, is it better to have a serious speech or a funny speech? plain, simple posters, or exciting posters? ; Is it highschool or college.  I was highschool class president on...   \n",
       "1110370  i want to MBA,I have financial problem,can any suggest to where i can satisfy by any good college.? ; my name is mohammed shakeel,from bangalore. ; Why you want to do MBA?\\nWhy there is financial problem?\\nWhy you want a good college?\\nThink, with your...   \n",
       "\n",
       "         sample_index  \n",
       "1194221             0  \n",
       "677721              1  \n",
       "677680              2  \n",
       "503509              3  \n",
       "1110370             4  "
      ]
     },
     "execution_count": 16,
     "metadata": {},
     "output_type": "execute_result"
    }
   ],
   "source": [
    "train['sample_index'] = list(range(len(train)))\n",
    "train.head()"
   ]
  },
  {
   "cell_type": "code",
   "execution_count": 17,
   "metadata": {},
   "outputs": [
    {
     "name": "stderr",
     "output_type": "stream",
     "text": [
      "/opt/conda/lib/python3.6/site-packages/ipykernel_launcher.py:1: SettingWithCopyWarning: \n",
      "A value is trying to be set on a copy of a slice from a DataFrame.\n",
      "Try using .loc[row_indexer,col_indexer] = value instead\n",
      "\n",
      "See the caveats in the documentation: http://pandas.pydata.org/pandas-docs/stable/indexing.html#indexing-view-versus-copy\n",
      "  \"\"\"Entry point for launching an IPython kernel.\n"
     ]
    },
    {
     "data": {
      "text/html": [
       "<div>\n",
       "<style scoped>\n",
       "    .dataframe tbody tr th:only-of-type {\n",
       "        vertical-align: middle;\n",
       "    }\n",
       "\n",
       "    .dataframe tbody tr th {\n",
       "        vertical-align: top;\n",
       "    }\n",
       "\n",
       "    .dataframe thead th {\n",
       "        text-align: right;\n",
       "    }\n",
       "</style>\n",
       "<table border=\"1\" class=\"dataframe\">\n",
       "  <thead>\n",
       "    <tr style=\"text-align: right;\">\n",
       "      <th></th>\n",
       "      <th>label</th>\n",
       "      <th>sentence</th>\n",
       "      <th>sample_index</th>\n",
       "    </tr>\n",
       "  </thead>\n",
       "  <tbody>\n",
       "    <tr>\n",
       "      <th>18995</th>\n",
       "      <td>7</td>\n",
       "      <td>Who do you think The Carver is in NIP/TUCK? ; love that show ; i think it was that lady detective ...don't remember her name Dr. troy and kimber's ex girlfriend.</td>\n",
       "      <td>0</td>\n",
       "    </tr>\n",
       "    <tr>\n",
       "      <th>534665</th>\n",
       "      <td>7</td>\n",
       "      <td>first verse help? ; Whats the first few lines of heat of the moment by asia, i think? really bugging me. Cheers ; I never meant to be so bad to you\\nOne thing I said that I would never do\\nA look from you and I would fall from grace\\nAnd that would wip...</td>\n",
       "      <td>1</td>\n",
       "    </tr>\n",
       "    <tr>\n",
       "      <th>74441</th>\n",
       "      <td>7</td>\n",
       "      <td>what is this song?? ; i think its an old song. like since i was little... here r the lyrics that i remember:\\n\\ni dont wanna run away, but i cant take it i dont understand. if i wasnt made for u then y does my heart tell me that i am?\\n\\nyea thats all ...</td>\n",
       "      <td>2</td>\n",
       "    </tr>\n",
       "    <tr>\n",
       "      <th>707003</th>\n",
       "      <td>4</td>\n",
       "      <td>How can I find the fastest Processor for my computer? ; I have a Dell Dimension 8100 aith a Pentium 4 1300Mhz Processor. What is the fastest processor that is compatible with this computer? ; I did some research on your computers chipset. It appears yo...</td>\n",
       "      <td>3</td>\n",
       "    </tr>\n",
       "    <tr>\n",
       "      <th>1147354</th>\n",
       "      <td>5</td>\n",
       "      <td>what were rangers and celtics average attendances from 1966 until 1990? ; scottish football statistics ; 2 points! Wooooo!</td>\n",
       "      <td>4</td>\n",
       "    </tr>\n",
       "  </tbody>\n",
       "</table>\n",
       "</div>"
      ],
      "text/plain": [
       "         label  \\\n",
       "18995        7   \n",
       "534665       7   \n",
       "74441        7   \n",
       "707003       4   \n",
       "1147354      5   \n",
       "\n",
       "                                                                                                                                                                                                                                                                sentence  \\\n",
       "18995                                                                                                  Who do you think The Carver is in NIP/TUCK? ; love that show ; i think it was that lady detective ...don't remember her name Dr. troy and kimber's ex girlfriend.   \n",
       "534665   first verse help? ; Whats the first few lines of heat of the moment by asia, i think? really bugging me. Cheers ; I never meant to be so bad to you\\nOne thing I said that I would never do\\nA look from you and I would fall from grace\\nAnd that would wip...   \n",
       "74441    what is this song?? ; i think its an old song. like since i was little... here r the lyrics that i remember:\\n\\ni dont wanna run away, but i cant take it i dont understand. if i wasnt made for u then y does my heart tell me that i am?\\n\\nyea thats all ...   \n",
       "707003   How can I find the fastest Processor for my computer? ; I have a Dell Dimension 8100 aith a Pentium 4 1300Mhz Processor. What is the fastest processor that is compatible with this computer? ; I did some research on your computers chipset. It appears yo...   \n",
       "1147354                                                                                                                                       what were rangers and celtics average attendances from 1966 until 1990? ; scottish football statistics ; 2 points! Wooooo!   \n",
       "\n",
       "         sample_index  \n",
       "18995               0  \n",
       "534665              1  \n",
       "74441               2  \n",
       "707003              3  \n",
       "1147354             4  "
      ]
     },
     "execution_count": 17,
     "metadata": {},
     "output_type": "execute_result"
    }
   ],
   "source": [
    "dev['sample_index'] = list(range(len(dev)))\n",
    "dev.head()"
   ]
  },
  {
   "cell_type": "code",
   "execution_count": null,
   "metadata": {},
   "outputs": [],
   "source": []
  },
  {
   "cell_type": "code",
   "execution_count": 18,
   "metadata": {},
   "outputs": [
    {
     "name": "stdout",
     "output_type": "stream",
     "text": [
      "<class 'pandas.core.frame.DataFrame'>\n",
      "Int64Index: 10000 entries, 1194221 to 822438\n",
      "Data columns (total 3 columns):\n",
      "label           10000 non-null int64\n",
      "sentence        10000 non-null object\n",
      "sample_index    10000 non-null int64\n",
      "dtypes: int64(2), object(1)\n",
      "memory usage: 312.5+ KB\n"
     ]
    }
   ],
   "source": [
    "train.info()"
   ]
  },
  {
   "cell_type": "code",
   "execution_count": 19,
   "metadata": {},
   "outputs": [
    {
     "name": "stdout",
     "output_type": "stream",
     "text": [
      "<class 'pandas.core.frame.DataFrame'>\n",
      "Int64Index: 10000 entries, 18995 to 542295\n",
      "Data columns (total 3 columns):\n",
      "label           10000 non-null int64\n",
      "sentence        10000 non-null object\n",
      "sample_index    10000 non-null int64\n",
      "dtypes: int64(2), object(1)\n",
      "memory usage: 312.5+ KB\n"
     ]
    }
   ],
   "source": [
    "dev.info()"
   ]
  },
  {
   "cell_type": "code",
   "execution_count": null,
   "metadata": {},
   "outputs": [],
   "source": []
  },
  {
   "cell_type": "code",
   "execution_count": 20,
   "metadata": {},
   "outputs": [],
   "source": [
    "# https://github.com/huggingface/datasets/blob/master/datasets/ag_news/ag_news.py\n",
    "test = pd.read_csv(data_path + 'test.csv', quotechar='\"', delimiter=\",\", quoting=csv.QUOTE_ALL, header=None)\n",
    "test.columns = ['label', 'title', 'content', 'answer']\n",
    "test['label'] = test['label']-1"
   ]
  },
  {
   "cell_type": "code",
   "execution_count": 21,
   "metadata": {},
   "outputs": [],
   "source": [
    "test = test.dropna()"
   ]
  },
  {
   "cell_type": "code",
   "execution_count": 22,
   "metadata": {},
   "outputs": [
    {
     "name": "stdout",
     "output_type": "stream",
     "text": [
      "<class 'pandas.core.frame.DataFrame'>\n",
      "Int64Index: 32265 entries, 0 to 59999\n",
      "Data columns (total 4 columns):\n",
      "label      32265 non-null int64\n",
      "title      32265 non-null object\n",
      "content    32265 non-null object\n",
      "answer     32265 non-null object\n",
      "dtypes: int64(1), object(3)\n",
      "memory usage: 1.2+ MB\n"
     ]
    }
   ],
   "source": [
    "test.info()"
   ]
  },
  {
   "cell_type": "code",
   "execution_count": 23,
   "metadata": {},
   "outputs": [
    {
     "name": "stdout",
     "output_type": "stream",
     "text": [
      "<class 'pandas.core.frame.DataFrame'>\n",
      "Int64Index: 10000 entries, 52267 to 10962\n",
      "Data columns (total 4 columns):\n",
      "label      10000 non-null int64\n",
      "title      10000 non-null object\n",
      "content    10000 non-null object\n",
      "answer     10000 non-null object\n",
      "dtypes: int64(1), object(3)\n",
      "memory usage: 390.6+ KB\n"
     ]
    }
   ],
   "source": [
    "for i in range(10):\n",
    "    if i==0:\n",
    "        test_ = test[test['label']==i].sample(1000, random_state=random_seed)\n",
    "    else:\n",
    "        test_ = test_.append(test[test['label']==i].sample(1000, random_state=random_seed))\n",
    "test_.info()"
   ]
  },
  {
   "cell_type": "code",
   "execution_count": 24,
   "metadata": {},
   "outputs": [],
   "source": [
    "test = test_"
   ]
  },
  {
   "cell_type": "code",
   "execution_count": 25,
   "metadata": {},
   "outputs": [
    {
     "name": "stderr",
     "output_type": "stream",
     "text": [
      "/opt/conda/lib/python3.6/site-packages/ipykernel_launcher.py:3: SettingWithCopyWarning: \n",
      "A value is trying to be set on a copy of a slice from a DataFrame.\n",
      "Try using .loc[row_indexer,col_indexer] = value instead\n",
      "\n",
      "See the caveats in the documentation: http://pandas.pydata.org/pandas-docs/stable/indexing.html#indexing-view-versus-copy\n",
      "  This is separate from the ipykernel package so we can avoid doing imports until\n"
     ]
    },
    {
     "data": {
      "text/html": [
       "<div>\n",
       "<style scoped>\n",
       "    .dataframe tbody tr th:only-of-type {\n",
       "        vertical-align: middle;\n",
       "    }\n",
       "\n",
       "    .dataframe tbody tr th {\n",
       "        vertical-align: top;\n",
       "    }\n",
       "\n",
       "    .dataframe thead th {\n",
       "        text-align: right;\n",
       "    }\n",
       "</style>\n",
       "<table border=\"1\" class=\"dataframe\">\n",
       "  <thead>\n",
       "    <tr style=\"text-align: right;\">\n",
       "      <th></th>\n",
       "      <th>label</th>\n",
       "      <th>sentence</th>\n",
       "      <th>sample_index</th>\n",
       "    </tr>\n",
       "  </thead>\n",
       "  <tbody>\n",
       "    <tr>\n",
       "      <th>52267</th>\n",
       "      <td>0</td>\n",
       "      <td>Is perfect health and wellness possible in this realm? ; or do you just have to have an extremely high tolerance for unpleasantness? ; So people who have no \"problems\" in their life claim that it is too boring.  Humans want so much that mentally  I don...</td>\n",
       "      <td>0</td>\n",
       "    </tr>\n",
       "    <tr>\n",
       "      <th>40811</th>\n",
       "      <td>0</td>\n",
       "      <td>If I snuck behind God and gave him some \"truth serum\" what would he say? ; RAmen. ; God would say, \"I AM GAY!\"</td>\n",
       "      <td>1</td>\n",
       "    </tr>\n",
       "    <tr>\n",
       "      <th>38763</th>\n",
       "      <td>0</td>\n",
       "      <td>Fairy Question to Women of Color? ; Hi all.  I am creating a \"Faeries of the Month\" calendar for 2007 and I realized that I hadn't seen many so-called Ethnic faeries aside from the ones I paint (I'm a white girl, btw).  So, my question is this:  Are th...</td>\n",
       "      <td>2</td>\n",
       "    </tr>\n",
       "    <tr>\n",
       "      <th>53705</th>\n",
       "      <td>0</td>\n",
       "      <td>People i just want say something.........? ; Why you say that atheist all dressed up and nowhere to go when they die? It not just atheist that go nowhere when they die its everybody cause soul dont exist and you dont exist without body so that saying i...</td>\n",
       "      <td>3</td>\n",
       "    </tr>\n",
       "    <tr>\n",
       "      <th>32421</th>\n",
       "      <td>0</td>\n",
       "      <td>HELP!! I Think I have an INTERNET STALKER?? ; what should i do? see my trailer and move? hire a armed security guard? change my idenity? marry a cop????? HELP!!! ; I would hope that the security guard you hire would have arms.\\n\\nA lot of good he'd be ...</td>\n",
       "      <td>4</td>\n",
       "    </tr>\n",
       "  </tbody>\n",
       "</table>\n",
       "</div>"
      ],
      "text/plain": [
       "       label  \\\n",
       "52267      0   \n",
       "40811      0   \n",
       "38763      0   \n",
       "53705      0   \n",
       "32421      0   \n",
       "\n",
       "                                                                                                                                                                                                                                                              sentence  \\\n",
       "52267  Is perfect health and wellness possible in this realm? ; or do you just have to have an extremely high tolerance for unpleasantness? ; So people who have no \"problems\" in their life claim that it is too boring.  Humans want so much that mentally  I don...   \n",
       "40811                                                                                                                                                   If I snuck behind God and gave him some \"truth serum\" what would he say? ; RAmen. ; God would say, \"I AM GAY!\"   \n",
       "38763  Fairy Question to Women of Color? ; Hi all.  I am creating a \"Faeries of the Month\" calendar for 2007 and I realized that I hadn't seen many so-called Ethnic faeries aside from the ones I paint (I'm a white girl, btw).  So, my question is this:  Are th...   \n",
       "53705  People i just want say something.........? ; Why you say that atheist all dressed up and nowhere to go when they die? It not just atheist that go nowhere when they die its everybody cause soul dont exist and you dont exist without body so that saying i...   \n",
       "32421  HELP!! I Think I have an INTERNET STALKER?? ; what should i do? see my trailer and move? hire a armed security guard? change my idenity? marry a cop????? HELP!!! ; I would hope that the security guard you hire would have arms.\\n\\nA lot of good he'd be ...   \n",
       "\n",
       "       sample_index  \n",
       "52267             0  \n",
       "40811             1  \n",
       "38763             2  \n",
       "53705             3  \n",
       "32421             4  "
      ]
     },
     "execution_count": 25,
     "metadata": {},
     "output_type": "execute_result"
    }
   ],
   "source": [
    "test['sentence'] = test.apply(lambda x: \" ; \".join((x['title'], x['content'], x['answer'])), axis=1)\n",
    "test = test[['label', 'sentence']]\n",
    "test['sample_index'] = list(range(len(test)))\n",
    "test.head()"
   ]
  },
  {
   "cell_type": "code",
   "execution_count": 26,
   "metadata": {},
   "outputs": [
    {
     "name": "stdout",
     "output_type": "stream",
     "text": [
      "<class 'pandas.core.frame.DataFrame'>\n",
      "Int64Index: 10000 entries, 52267 to 10962\n",
      "Data columns (total 3 columns):\n",
      "label           10000 non-null int64\n",
      "sentence        10000 non-null object\n",
      "sample_index    10000 non-null int64\n",
      "dtypes: int64(2), object(1)\n",
      "memory usage: 312.5+ KB\n"
     ]
    }
   ],
   "source": [
    "test.info()"
   ]
  },
  {
   "cell_type": "code",
   "execution_count": 27,
   "metadata": {},
   "outputs": [
    {
     "data": {
      "text/plain": [
       "7    1000\n",
       "6    1000\n",
       "5    1000\n",
       "4    1000\n",
       "3    1000\n",
       "2    1000\n",
       "9    1000\n",
       "1    1000\n",
       "8    1000\n",
       "0    1000\n",
       "Name: label, dtype: int64"
      ]
     },
     "execution_count": 27,
     "metadata": {},
     "output_type": "execute_result"
    }
   ],
   "source": [
    "test['label'].value_counts()"
   ]
  },
  {
   "cell_type": "code",
   "execution_count": null,
   "metadata": {},
   "outputs": [],
   "source": []
  },
  {
   "cell_type": "code",
   "execution_count": 51,
   "metadata": {},
   "outputs": [
    {
     "name": "stdout",
     "output_type": "stream",
     "text": [
      "<class 'pandas.core.frame.DataFrame'>\n",
      "Int64Index: 1000 entries, 824365 to 605246\n",
      "Data columns (total 3 columns):\n",
      "label           1000 non-null int64\n",
      "sentence        1000 non-null object\n",
      "sample_index    1000 non-null int64\n",
      "dtypes: int64(2), object(1)\n",
      "memory usage: 31.2+ KB\n"
     ]
    },
    {
     "name": "stderr",
     "output_type": "stream",
     "text": [
      "/opt/conda/lib/python3.6/site-packages/ipykernel_launcher.py:2: SettingWithCopyWarning: \n",
      "A value is trying to be set on a copy of a slice from a DataFrame.\n",
      "Try using .loc[row_indexer,col_indexer] = value instead\n",
      "\n",
      "See the caveats in the documentation: http://pandas.pydata.org/pandas-docs/stable/indexing.html#indexing-view-versus-copy\n",
      "  \n"
     ]
    }
   ],
   "source": [
    "tmp = train[train['label']==5]\n",
    "tmp['sentence'] = tmp['sentence'].str.lower()\n",
    "tmp.info()"
   ]
  },
  {
   "cell_type": "code",
   "execution_count": 57,
   "metadata": {},
   "outputs": [
    {
     "name": "stdout",
     "output_type": "stream",
     "text": [
      "<class 'pandas.core.frame.DataFrame'>\n",
      "Int64Index: 2 entries, 895193 to 820288\n",
      "Data columns (total 3 columns):\n",
      "label           2 non-null int64\n",
      "sentence        2 non-null object\n",
      "sample_index    2 non-null int64\n",
      "dtypes: int64(2), object(1)\n",
      "memory usage: 64.0+ bytes\n"
     ]
    }
   ],
   "source": [
    "tmp[tmp['sentence'].str.contains(\"football field\")].info()"
   ]
  },
  {
   "cell_type": "code",
   "execution_count": null,
   "metadata": {},
   "outputs": [],
   "source": []
  },
  {
   "cell_type": "code",
   "execution_count": 66,
   "metadata": {},
   "outputs": [],
   "source": [
    "train.to_csv('data/train.csv', index=False)"
   ]
  },
  {
   "cell_type": "code",
   "execution_count": 29,
   "metadata": {},
   "outputs": [],
   "source": [
    "dev.to_csv('data/dev.csv', index=False)"
   ]
  },
  {
   "cell_type": "code",
   "execution_count": 30,
   "metadata": {},
   "outputs": [],
   "source": [
    "test.to_csv('data/test.csv', index=False)"
   ]
  },
  {
   "cell_type": "code",
   "execution_count": null,
   "metadata": {},
   "outputs": [],
   "source": []
  },
  {
   "cell_type": "code",
   "execution_count": 31,
   "metadata": {},
   "outputs": [
    {
     "name": "stdout",
     "output_type": "stream",
     "text": [
      "0 0\n",
      "7    1000\n",
      "6    1000\n",
      "5    1000\n",
      "4    1000\n",
      "3    1000\n",
      "2    1000\n",
      "9    1000\n",
      "1    1000\n",
      "8    1000\n",
      "0    1000\n",
      "Name: label, dtype: int64\n",
      "10 1000\n",
      "1    909\n",
      "0    908\n",
      "7    902\n",
      "4    902\n",
      "3    901\n",
      "9    901\n",
      "2    899\n",
      "8    895\n",
      "5    893\n",
      "6    890\n",
      "Name: label, dtype: int64\n",
      "20 2000\n",
      "1    816\n",
      "3    808\n",
      "0    806\n",
      "9    803\n",
      "8    802\n",
      "7    801\n",
      "2    795\n",
      "5    793\n",
      "4    791\n",
      "6    785\n",
      "Name: label, dtype: int64\n",
      "30 3000\n",
      "3    722\n",
      "1    716\n",
      "0    716\n",
      "8    707\n",
      "9    704\n",
      "5    696\n",
      "7    692\n",
      "6    685\n",
      "4    685\n",
      "2    677\n",
      "Name: label, dtype: int64\n",
      "40 4000\n",
      "3    626\n",
      "9    615\n",
      "0    615\n",
      "1    602\n",
      "8    600\n",
      "4    597\n",
      "2    594\n",
      "6    586\n",
      "5    583\n",
      "7    582\n",
      "Name: label, dtype: int64\n",
      "50 5000\n",
      "0    532\n",
      "3    514\n",
      "4    512\n",
      "6    504\n",
      "9    501\n",
      "1    496\n",
      "2    489\n",
      "5    488\n",
      "8    484\n",
      "7    480\n",
      "Name: label, dtype: int64\n",
      "60 6000\n",
      "0    431\n",
      "3    419\n",
      "9    410\n",
      "4    409\n",
      "6    403\n",
      "1    397\n",
      "2    396\n",
      "7    384\n",
      "8    376\n",
      "5    375\n",
      "Name: label, dtype: int64\n",
      "70 7000\n",
      "3    328\n",
      "0    323\n",
      "2    309\n",
      "1    306\n",
      "9    297\n",
      "5    294\n",
      "4    294\n",
      "6    292\n",
      "7    282\n",
      "8    275\n",
      "Name: label, dtype: int64\n",
      "80 8000\n",
      "0    227\n",
      "3    217\n",
      "5    204\n",
      "2    202\n",
      "1    202\n",
      "9    197\n",
      "6    196\n",
      "4    193\n",
      "8    181\n",
      "7    181\n",
      "Name: label, dtype: int64\n",
      "90 9000\n",
      "2    119\n",
      "0    111\n",
      "8    101\n",
      "9     99\n",
      "3     98\n",
      "7     97\n",
      "1     95\n",
      "6     94\n",
      "5     94\n",
      "4     92\n",
      "Name: label, dtype: int64\n"
     ]
    }
   ],
   "source": [
    "total = len(train)\n",
    "for percentage in range(0, 100, 10):\n",
    "    k = int(total*(percentage/100))\n",
    "    print(percentage, k)\n",
    "    \n",
    "    tmp = train.sample(k, \n",
    "                       random_state=0\n",
    "                      )\n",
    "\n",
    "    tmp = train.drop(tmp.index)\n",
    "    print(tmp['label'].value_counts())\n",
    "    \n",
    "    filename = \"data/random_0/{}.csv\".format(percentage)\n",
    "    os.makedirs(os.path.dirname(filename), exist_ok=True)\n",
    "    \n",
    "    tmp[['label', 'sentence', 'sample_index']].to_csv(filename, index=False)"
   ]
  },
  {
   "cell_type": "code",
   "execution_count": null,
   "metadata": {},
   "outputs": [],
   "source": []
  },
  {
   "cell_type": "code",
   "execution_count": 32,
   "metadata": {},
   "outputs": [
    {
     "name": "stdout",
     "output_type": "stream",
     "text": [
      "0 0\n",
      "7    1000\n",
      "6    1000\n",
      "5    1000\n",
      "4    1000\n",
      "3    1000\n",
      "2    1000\n",
      "9    1000\n",
      "1    1000\n",
      "8    1000\n",
      "0    1000\n",
      "Name: label, dtype: int64\n",
      "10 1000\n",
      "4    923\n",
      "7    914\n",
      "3    906\n",
      "5    905\n",
      "9    903\n",
      "8    895\n",
      "1    894\n",
      "6    889\n",
      "2    889\n",
      "0    882\n",
      "Name: label, dtype: int64\n",
      "20 2000\n",
      "4    826\n",
      "9    812\n",
      "6    806\n",
      "7    802\n",
      "1    797\n",
      "5    796\n",
      "0    796\n",
      "8    795\n",
      "3    790\n",
      "2    780\n",
      "Name: label, dtype: int64\n",
      "30 3000\n",
      "5    721\n",
      "7    709\n",
      "1    708\n",
      "4    706\n",
      "6    705\n",
      "8    701\n",
      "9    700\n",
      "3    690\n",
      "2    681\n",
      "0    679\n",
      "Name: label, dtype: int64\n",
      "40 4000\n",
      "7    622\n",
      "8    615\n",
      "5    606\n",
      "4    606\n",
      "1    605\n",
      "6    598\n",
      "9    592\n",
      "0    589\n",
      "2    588\n",
      "3    579\n",
      "Name: label, dtype: int64\n",
      "50 5000\n",
      "1    522\n",
      "7    521\n",
      "8    510\n",
      "5    504\n",
      "4    500\n",
      "6    499\n",
      "9    495\n",
      "0    485\n",
      "3    482\n",
      "2    482\n",
      "Name: label, dtype: int64\n",
      "60 6000\n",
      "1    426\n",
      "8    416\n",
      "4    416\n",
      "7    404\n",
      "6    401\n",
      "9    398\n",
      "5    395\n",
      "3    389\n",
      "0    387\n",
      "2    368\n",
      "Name: label, dtype: int64\n",
      "70 7000\n",
      "1    325\n",
      "8    317\n",
      "6    301\n",
      "4    301\n",
      "0    300\n",
      "9    299\n",
      "5    299\n",
      "7    294\n",
      "3    288\n",
      "2    276\n",
      "Name: label, dtype: int64\n",
      "80 8000\n",
      "1    220\n",
      "0    206\n",
      "8    204\n",
      "9    203\n",
      "6    202\n",
      "7    199\n",
      "5    198\n",
      "4    197\n",
      "2    190\n",
      "3    181\n",
      "Name: label, dtype: int64\n",
      "90 9000\n",
      "1    114\n",
      "7    108\n",
      "0    108\n",
      "8    105\n",
      "9    103\n",
      "5    101\n",
      "6     98\n",
      "4     96\n",
      "2     88\n",
      "3     79\n",
      "Name: label, dtype: int64\n"
     ]
    }
   ],
   "source": [
    "total = len(train)\n",
    "for percentage in range(0, 100, 10):\n",
    "    k = int(total*(percentage/100))\n",
    "    print(percentage, k)\n",
    "    \n",
    "    tmp = train.sample(k, \n",
    "                       random_state=2\n",
    "                      )\n",
    "\n",
    "    tmp = train.drop(tmp.index)\n",
    "    print(tmp['label'].value_counts())\n",
    "    \n",
    "    filename = \"data/random_2/{}.csv\".format(percentage)\n",
    "    os.makedirs(os.path.dirname(filename), exist_ok=True)\n",
    "    \n",
    "    tmp[['label', 'sentence', 'sample_index']].to_csv(filename, index=False)"
   ]
  },
  {
   "cell_type": "code",
   "execution_count": null,
   "metadata": {},
   "outputs": [],
   "source": []
  },
  {
   "cell_type": "code",
   "execution_count": 33,
   "metadata": {},
   "outputs": [
    {
     "name": "stdout",
     "output_type": "stream",
     "text": [
      "0 0\n",
      "7    1000\n",
      "6    1000\n",
      "5    1000\n",
      "4    1000\n",
      "3    1000\n",
      "2    1000\n",
      "9    1000\n",
      "1    1000\n",
      "8    1000\n",
      "0    1000\n",
      "Name: label, dtype: int64\n",
      "10 1000\n",
      "8    920\n",
      "2    909\n",
      "0    905\n",
      "9    904\n",
      "6    902\n",
      "1    902\n",
      "5    894\n",
      "7    889\n",
      "4    888\n",
      "3    887\n",
      "Name: label, dtype: int64\n",
      "20 2000\n",
      "8    820\n",
      "2    812\n",
      "6    810\n",
      "1    809\n",
      "0    808\n",
      "9    797\n",
      "4    792\n",
      "5    786\n",
      "7    784\n",
      "3    782\n",
      "Name: label, dtype: int64\n",
      "30 3000\n",
      "8    724\n",
      "1    708\n",
      "9    705\n",
      "0    700\n",
      "6    698\n",
      "2    698\n",
      "7    694\n",
      "5    694\n",
      "3    692\n",
      "4    687\n",
      "Name: label, dtype: int64\n",
      "40 4000\n",
      "7    614\n",
      "8    613\n",
      "1    608\n",
      "0    606\n",
      "5    605\n",
      "4    595\n",
      "6    593\n",
      "9    593\n",
      "2    591\n",
      "3    582\n",
      "Name: label, dtype: int64\n",
      "50 5000\n",
      "8    511\n",
      "5    510\n",
      "6    508\n",
      "1    505\n",
      "7    504\n",
      "9    502\n",
      "0    501\n",
      "4    497\n",
      "2    492\n",
      "3    470\n",
      "Name: label, dtype: int64\n",
      "60 6000\n",
      "5    424\n",
      "8    416\n",
      "1    414\n",
      "6    414\n",
      "7    402\n",
      "0    392\n",
      "2    391\n",
      "4    387\n",
      "9    380\n",
      "3    380\n",
      "Name: label, dtype: int64\n",
      "70 7000\n",
      "8    330\n",
      "5    319\n",
      "6    319\n",
      "2    304\n",
      "0    302\n",
      "1    301\n",
      "7    287\n",
      "3    287\n",
      "4    284\n",
      "9    267\n",
      "Name: label, dtype: int64\n",
      "80 8000\n",
      "8    229\n",
      "6    215\n",
      "5    206\n",
      "2    203\n",
      "3    202\n",
      "1    200\n",
      "0    199\n",
      "7    190\n",
      "4    185\n",
      "9    171\n",
      "Name: label, dtype: int64\n",
      "90 9000\n",
      "2    112\n",
      "8    110\n",
      "6    110\n",
      "5    110\n",
      "0    106\n",
      "1    104\n",
      "7    101\n",
      "3     95\n",
      "9     79\n",
      "4     73\n",
      "Name: label, dtype: int64\n"
     ]
    }
   ],
   "source": [
    "total = len(train)\n",
    "for percentage in range(0, 100, 10):\n",
    "    k = int(total*(percentage/100))\n",
    "    print(percentage, k)\n",
    "    \n",
    "    tmp = train.sample(k, \n",
    "                       random_state=42\n",
    "                      )\n",
    "    tmp = train.drop(tmp.index)\n",
    "    print(tmp['label'].value_counts())\n",
    "    \n",
    "    filename = \"data/random/{}.csv\".format(percentage)\n",
    "    os.makedirs(os.path.dirname(filename), exist_ok=True)\n",
    "    \n",
    "    tmp[['label', 'sentence', 'sample_index']].to_csv(filename, index=False)"
   ]
  },
  {
   "cell_type": "code",
   "execution_count": null,
   "metadata": {},
   "outputs": [],
   "source": []
  }
 ],
 "metadata": {
  "kernelspec": {
   "display_name": "Python 3",
   "language": "python",
   "name": "python3"
  },
  "language_info": {
   "codemirror_mode": {
    "name": "ipython",
    "version": 3
   },
   "file_extension": ".py",
   "mimetype": "text/x-python",
   "name": "python",
   "nbconvert_exporter": "python",
   "pygments_lexer": "ipython3",
   "version": "3.6.10"
  }
 },
 "nbformat": 4,
 "nbformat_minor": 4
}
