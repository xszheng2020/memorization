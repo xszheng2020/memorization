{
 "cells": [
  {
   "cell_type": "code",
   "execution_count": 1,
   "metadata": {},
   "outputs": [],
   "source": [
    "import os"
   ]
  },
  {
   "cell_type": "code",
   "execution_count": 2,
   "metadata": {},
   "outputs": [],
   "source": [
    "random_seed = 42"
   ]
  },
  {
   "cell_type": "code",
   "execution_count": 3,
   "metadata": {},
   "outputs": [],
   "source": [
    "import csv"
   ]
  },
  {
   "cell_type": "code",
   "execution_count": 4,
   "metadata": {},
   "outputs": [],
   "source": [
    "import random\n",
    "random.seed(random_seed)\n",
    "import numpy as np\n",
    "np.random.seed(random_seed)\n",
    "import pandas as pd\n",
    "pd.set_option('max_colwidth', 256)"
   ]
  },
  {
   "cell_type": "code",
   "execution_count": null,
   "metadata": {},
   "outputs": [],
   "source": []
  },
  {
   "cell_type": "code",
   "execution_count": 5,
   "metadata": {},
   "outputs": [],
   "source": [
    "data_path = \"data/data/\""
   ]
  },
  {
   "cell_type": "code",
   "execution_count": 6,
   "metadata": {},
   "outputs": [
    {
     "data": {
      "text/html": [
       "<div>\n",
       "<style scoped>\n",
       "    .dataframe tbody tr th:only-of-type {\n",
       "        vertical-align: middle;\n",
       "    }\n",
       "\n",
       "    .dataframe tbody tr th {\n",
       "        vertical-align: top;\n",
       "    }\n",
       "\n",
       "    .dataframe thead th {\n",
       "        text-align: right;\n",
       "    }\n",
       "</style>\n",
       "<table border=\"1\" class=\"dataframe\">\n",
       "  <thead>\n",
       "    <tr style=\"text-align: right;\">\n",
       "      <th></th>\n",
       "      <th>document</th>\n",
       "      <th>idx</th>\n",
       "      <th>label</th>\n",
       "    </tr>\n",
       "  </thead>\n",
       "  <tbody>\n",
       "    <tr>\n",
       "      <th>0</th>\n",
       "      <td>the rock is destined to be the 21st century s new conan and that he s going to make a splash even greater than arnold schwarzenegger jean claud van damme or steven segal</td>\n",
       "      <td>train_0</td>\n",
       "      <td>1</td>\n",
       "    </tr>\n",
       "    <tr>\n",
       "      <th>1</th>\n",
       "      <td>the gorgeously elaborate continuation of the lord of the rings trilogy is so huge that a column of words can not adequately describe co writer director peter jackson s expanded vision of j r r tolkien s middle earth</td>\n",
       "      <td>train_1</td>\n",
       "      <td>1</td>\n",
       "    </tr>\n",
       "    <tr>\n",
       "      <th>2</th>\n",
       "      <td>singer composer bryan adams contributes a slew of songs a few potential hits a few more simply intrusive to the story but the whole package certainly captures the intended er spirit of the piece</td>\n",
       "      <td>train_2</td>\n",
       "      <td>1</td>\n",
       "    </tr>\n",
       "    <tr>\n",
       "      <th>3</th>\n",
       "      <td>yet the act is still charming here</td>\n",
       "      <td>train_3</td>\n",
       "      <td>1</td>\n",
       "    </tr>\n",
       "    <tr>\n",
       "      <th>4</th>\n",
       "      <td>whether or not you re enlightened by any of derrida s lectures on the other and the self derrida is an undeniably fascinating and playful fellow</td>\n",
       "      <td>train_4</td>\n",
       "      <td>1</td>\n",
       "    </tr>\n",
       "  </tbody>\n",
       "</table>\n",
       "</div>"
      ],
      "text/plain": [
       "                                                                                                                                                                                                                  document  \\\n",
       "0                                                the rock is destined to be the 21st century s new conan and that he s going to make a splash even greater than arnold schwarzenegger jean claud van damme or steven segal   \n",
       "1  the gorgeously elaborate continuation of the lord of the rings trilogy is so huge that a column of words can not adequately describe co writer director peter jackson s expanded vision of j r r tolkien s middle earth   \n",
       "2                       singer composer bryan adams contributes a slew of songs a few potential hits a few more simply intrusive to the story but the whole package certainly captures the intended er spirit of the piece   \n",
       "3                                                                                                                                                                                       yet the act is still charming here   \n",
       "4                                                                         whether or not you re enlightened by any of derrida s lectures on the other and the self derrida is an undeniably fascinating and playful fellow   \n",
       "\n",
       "       idx  label  \n",
       "0  train_0      1  \n",
       "1  train_1      1  \n",
       "2  train_2      1  \n",
       "3  train_3      1  \n",
       "4  train_4      1  "
      ]
     },
     "execution_count": 6,
     "metadata": {},
     "output_type": "execute_result"
    }
   ],
   "source": [
    "train = pd.read_json(data_path + 'train.jsonl', lines=True)\n",
    "train.head()"
   ]
  },
  {
   "cell_type": "code",
   "execution_count": 7,
   "metadata": {},
   "outputs": [
    {
     "data": {
      "text/html": [
       "<div>\n",
       "<style scoped>\n",
       "    .dataframe tbody tr th:only-of-type {\n",
       "        vertical-align: middle;\n",
       "    }\n",
       "\n",
       "    .dataframe tbody tr th {\n",
       "        vertical-align: top;\n",
       "    }\n",
       "\n",
       "    .dataframe thead th {\n",
       "        text-align: right;\n",
       "    }\n",
       "</style>\n",
       "<table border=\"1\" class=\"dataframe\">\n",
       "  <thead>\n",
       "    <tr style=\"text-align: right;\">\n",
       "      <th></th>\n",
       "      <th>label</th>\n",
       "      <th>sentence</th>\n",
       "      <th>sample_index</th>\n",
       "    </tr>\n",
       "  </thead>\n",
       "  <tbody>\n",
       "    <tr>\n",
       "      <th>0</th>\n",
       "      <td>1</td>\n",
       "      <td>the rock is destined to be the 21st century s new conan and that he s going to make a splash even greater than arnold schwarzenegger jean claud van damme or steven segal</td>\n",
       "      <td>0</td>\n",
       "    </tr>\n",
       "    <tr>\n",
       "      <th>1</th>\n",
       "      <td>1</td>\n",
       "      <td>the gorgeously elaborate continuation of the lord of the rings trilogy is so huge that a column of words can not adequately describe co writer director peter jackson s expanded vision of j r r tolkien s middle earth</td>\n",
       "      <td>1</td>\n",
       "    </tr>\n",
       "    <tr>\n",
       "      <th>2</th>\n",
       "      <td>1</td>\n",
       "      <td>singer composer bryan adams contributes a slew of songs a few potential hits a few more simply intrusive to the story but the whole package certainly captures the intended er spirit of the piece</td>\n",
       "      <td>2</td>\n",
       "    </tr>\n",
       "    <tr>\n",
       "      <th>3</th>\n",
       "      <td>1</td>\n",
       "      <td>yet the act is still charming here</td>\n",
       "      <td>3</td>\n",
       "    </tr>\n",
       "    <tr>\n",
       "      <th>4</th>\n",
       "      <td>1</td>\n",
       "      <td>whether or not you re enlightened by any of derrida s lectures on the other and the self derrida is an undeniably fascinating and playful fellow</td>\n",
       "      <td>4</td>\n",
       "    </tr>\n",
       "  </tbody>\n",
       "</table>\n",
       "</div>"
      ],
      "text/plain": [
       "   label  \\\n",
       "0      1   \n",
       "1      1   \n",
       "2      1   \n",
       "3      1   \n",
       "4      1   \n",
       "\n",
       "                                                                                                                                                                                                                  sentence  \\\n",
       "0                                                the rock is destined to be the 21st century s new conan and that he s going to make a splash even greater than arnold schwarzenegger jean claud van damme or steven segal   \n",
       "1  the gorgeously elaborate continuation of the lord of the rings trilogy is so huge that a column of words can not adequately describe co writer director peter jackson s expanded vision of j r r tolkien s middle earth   \n",
       "2                       singer composer bryan adams contributes a slew of songs a few potential hits a few more simply intrusive to the story but the whole package certainly captures the intended er spirit of the piece   \n",
       "3                                                                                                                                                                                       yet the act is still charming here   \n",
       "4                                                                         whether or not you re enlightened by any of derrida s lectures on the other and the self derrida is an undeniably fascinating and playful fellow   \n",
       "\n",
       "   sample_index  \n",
       "0             0  \n",
       "1             1  \n",
       "2             2  \n",
       "3             3  \n",
       "4             4  "
      ]
     },
     "execution_count": 7,
     "metadata": {},
     "output_type": "execute_result"
    }
   ],
   "source": [
    "train = train[['label', 'document', 'idx']]\n",
    "train['idx'] = range(len(train))\n",
    "train.columns = ['label', 'sentence', 'sample_index']\n",
    "train.head()"
   ]
  },
  {
   "cell_type": "code",
   "execution_count": 8,
   "metadata": {},
   "outputs": [
    {
     "data": {
      "text/plain": [
       "1    3610\n",
       "0    3310\n",
       "Name: label, dtype: int64"
      ]
     },
     "execution_count": 8,
     "metadata": {},
     "output_type": "execute_result"
    }
   ],
   "source": [
    "train['label'].value_counts()"
   ]
  },
  {
   "cell_type": "code",
   "execution_count": 9,
   "metadata": {},
   "outputs": [
    {
     "name": "stdout",
     "output_type": "stream",
     "text": [
      "<class 'pandas.core.frame.DataFrame'>\n",
      "RangeIndex: 6920 entries, 0 to 6919\n",
      "Data columns (total 3 columns):\n",
      "label           6920 non-null int64\n",
      "sentence        6920 non-null object\n",
      "sample_index    6920 non-null int64\n",
      "dtypes: int64(2), object(1)\n",
      "memory usage: 162.3+ KB\n"
     ]
    }
   ],
   "source": [
    "train.info()"
   ]
  },
  {
   "cell_type": "code",
   "execution_count": 10,
   "metadata": {},
   "outputs": [],
   "source": [
    "train.to_csv('data/train.csv', index=False)"
   ]
  },
  {
   "cell_type": "code",
   "execution_count": null,
   "metadata": {},
   "outputs": [],
   "source": []
  },
  {
   "cell_type": "code",
   "execution_count": 11,
   "metadata": {},
   "outputs": [
    {
     "data": {
      "text/html": [
       "<div>\n",
       "<style scoped>\n",
       "    .dataframe tbody tr th:only-of-type {\n",
       "        vertical-align: middle;\n",
       "    }\n",
       "\n",
       "    .dataframe tbody tr th {\n",
       "        vertical-align: top;\n",
       "    }\n",
       "\n",
       "    .dataframe thead th {\n",
       "        text-align: right;\n",
       "    }\n",
       "</style>\n",
       "<table border=\"1\" class=\"dataframe\">\n",
       "  <thead>\n",
       "    <tr style=\"text-align: right;\">\n",
       "      <th></th>\n",
       "      <th>label</th>\n",
       "      <th>sentence</th>\n",
       "      <th>sample_index</th>\n",
       "    </tr>\n",
       "  </thead>\n",
       "  <tbody>\n",
       "    <tr>\n",
       "      <th>0</th>\n",
       "      <td>1</td>\n",
       "      <td>it s a lovely film with lovely performances by buy and accorsi</td>\n",
       "      <td>0</td>\n",
       "    </tr>\n",
       "    <tr>\n",
       "      <th>1</th>\n",
       "      <td>1</td>\n",
       "      <td>and if you re not nearly moved to tears by a couple of scenes you ve got ice water in your veins</td>\n",
       "      <td>1</td>\n",
       "    </tr>\n",
       "    <tr>\n",
       "      <th>2</th>\n",
       "      <td>1</td>\n",
       "      <td>a warm funny engaging film</td>\n",
       "      <td>2</td>\n",
       "    </tr>\n",
       "    <tr>\n",
       "      <th>3</th>\n",
       "      <td>1</td>\n",
       "      <td>uses sharp humor and insight into human nature to examine class conflict adolescent yearning the roots of friendship and sexual identity</td>\n",
       "      <td>3</td>\n",
       "    </tr>\n",
       "    <tr>\n",
       "      <th>4</th>\n",
       "      <td>1</td>\n",
       "      <td>entertains by providing good lively company</td>\n",
       "      <td>4</td>\n",
       "    </tr>\n",
       "  </tbody>\n",
       "</table>\n",
       "</div>"
      ],
      "text/plain": [
       "   label  \\\n",
       "0      1   \n",
       "1      1   \n",
       "2      1   \n",
       "3      1   \n",
       "4      1   \n",
       "\n",
       "                                                                                                                                   sentence  \\\n",
       "0                                                                            it s a lovely film with lovely performances by buy and accorsi   \n",
       "1                                          and if you re not nearly moved to tears by a couple of scenes you ve got ice water in your veins   \n",
       "2                                                                                                                a warm funny engaging film   \n",
       "3  uses sharp humor and insight into human nature to examine class conflict adolescent yearning the roots of friendship and sexual identity   \n",
       "4                                                                                               entertains by providing good lively company   \n",
       "\n",
       "   sample_index  \n",
       "0             0  \n",
       "1             1  \n",
       "2             2  \n",
       "3             3  \n",
       "4             4  "
      ]
     },
     "execution_count": 11,
     "metadata": {},
     "output_type": "execute_result"
    }
   ],
   "source": [
    "dev = pd.read_json(data_path + 'dev.jsonl', lines=True)\n",
    "dev = dev[['label', 'document', 'idx']]\n",
    "dev['idx'] = range(len(dev))\n",
    "dev.columns = ['label', 'sentence', 'sample_index']\n",
    "dev.head()"
   ]
  },
  {
   "cell_type": "code",
   "execution_count": 12,
   "metadata": {},
   "outputs": [
    {
     "data": {
      "text/plain": [
       "1    444\n",
       "0    428\n",
       "Name: label, dtype: int64"
      ]
     },
     "execution_count": 12,
     "metadata": {},
     "output_type": "execute_result"
    }
   ],
   "source": [
    "dev['label'].value_counts()"
   ]
  },
  {
   "cell_type": "code",
   "execution_count": 13,
   "metadata": {},
   "outputs": [
    {
     "name": "stdout",
     "output_type": "stream",
     "text": [
      "<class 'pandas.core.frame.DataFrame'>\n",
      "RangeIndex: 872 entries, 0 to 871\n",
      "Data columns (total 3 columns):\n",
      "label           872 non-null int64\n",
      "sentence        872 non-null object\n",
      "sample_index    872 non-null int64\n",
      "dtypes: int64(2), object(1)\n",
      "memory usage: 20.5+ KB\n"
     ]
    }
   ],
   "source": [
    "dev.info()"
   ]
  },
  {
   "cell_type": "code",
   "execution_count": 14,
   "metadata": {},
   "outputs": [],
   "source": [
    "dev.to_csv('data/dev.csv', index=False)"
   ]
  },
  {
   "cell_type": "code",
   "execution_count": null,
   "metadata": {},
   "outputs": [],
   "source": []
  },
  {
   "cell_type": "code",
   "execution_count": 15,
   "metadata": {},
   "outputs": [
    {
     "data": {
      "text/html": [
       "<div>\n",
       "<style scoped>\n",
       "    .dataframe tbody tr th:only-of-type {\n",
       "        vertical-align: middle;\n",
       "    }\n",
       "\n",
       "    .dataframe tbody tr th {\n",
       "        vertical-align: top;\n",
       "    }\n",
       "\n",
       "    .dataframe thead th {\n",
       "        text-align: right;\n",
       "    }\n",
       "</style>\n",
       "<table border=\"1\" class=\"dataframe\">\n",
       "  <thead>\n",
       "    <tr style=\"text-align: right;\">\n",
       "      <th></th>\n",
       "      <th>label</th>\n",
       "      <th>sentence</th>\n",
       "      <th>sample_index</th>\n",
       "    </tr>\n",
       "  </thead>\n",
       "  <tbody>\n",
       "    <tr>\n",
       "      <th>0</th>\n",
       "      <td>1</td>\n",
       "      <td>if you sometimes like to go to the movies to have fun wasabi is a good place to start</td>\n",
       "      <td>0</td>\n",
       "    </tr>\n",
       "    <tr>\n",
       "      <th>1</th>\n",
       "      <td>1</td>\n",
       "      <td>emerges as something rare an issue movie that s so honest and keenly observed that it does n t feel like one</td>\n",
       "      <td>1</td>\n",
       "    </tr>\n",
       "    <tr>\n",
       "      <th>2</th>\n",
       "      <td>1</td>\n",
       "      <td>offers that rare combination of entertainment and education</td>\n",
       "      <td>2</td>\n",
       "    </tr>\n",
       "    <tr>\n",
       "      <th>3</th>\n",
       "      <td>1</td>\n",
       "      <td>perhaps no picture ever made has more literally showed that the road to hell is paved with good intentions</td>\n",
       "      <td>3</td>\n",
       "    </tr>\n",
       "    <tr>\n",
       "      <th>4</th>\n",
       "      <td>1</td>\n",
       "      <td>steers turns in a snappy screenplay that curls at the edges it s so clever you want to hate it</td>\n",
       "      <td>4</td>\n",
       "    </tr>\n",
       "  </tbody>\n",
       "</table>\n",
       "</div>"
      ],
      "text/plain": [
       "   label  \\\n",
       "0      1   \n",
       "1      1   \n",
       "2      1   \n",
       "3      1   \n",
       "4      1   \n",
       "\n",
       "                                                                                                       sentence  \\\n",
       "0                         if you sometimes like to go to the movies to have fun wasabi is a good place to start   \n",
       "1  emerges as something rare an issue movie that s so honest and keenly observed that it does n t feel like one   \n",
       "2                                                   offers that rare combination of entertainment and education   \n",
       "3    perhaps no picture ever made has more literally showed that the road to hell is paved with good intentions   \n",
       "4                steers turns in a snappy screenplay that curls at the edges it s so clever you want to hate it   \n",
       "\n",
       "   sample_index  \n",
       "0             0  \n",
       "1             1  \n",
       "2             2  \n",
       "3             3  \n",
       "4             4  "
      ]
     },
     "execution_count": 15,
     "metadata": {},
     "output_type": "execute_result"
    }
   ],
   "source": [
    "test = pd.read_json(data_path + 'test.jsonl', lines=True)\n",
    "test = test[['label', 'document', 'idx']]\n",
    "test['idx'] = range(len(test))\n",
    "test.columns = ['label', 'sentence', 'sample_index']\n",
    "test.head()"
   ]
  },
  {
   "cell_type": "code",
   "execution_count": 16,
   "metadata": {},
   "outputs": [
    {
     "data": {
      "text/plain": [
       "0    912\n",
       "1    909\n",
       "Name: label, dtype: int64"
      ]
     },
     "execution_count": 16,
     "metadata": {},
     "output_type": "execute_result"
    }
   ],
   "source": [
    "test['label'].value_counts()"
   ]
  },
  {
   "cell_type": "code",
   "execution_count": 17,
   "metadata": {},
   "outputs": [
    {
     "name": "stdout",
     "output_type": "stream",
     "text": [
      "<class 'pandas.core.frame.DataFrame'>\n",
      "RangeIndex: 1821 entries, 0 to 1820\n",
      "Data columns (total 3 columns):\n",
      "label           1821 non-null int64\n",
      "sentence        1821 non-null object\n",
      "sample_index    1821 non-null int64\n",
      "dtypes: int64(2), object(1)\n",
      "memory usage: 42.8+ KB\n"
     ]
    }
   ],
   "source": [
    "test.info()"
   ]
  },
  {
   "cell_type": "code",
   "execution_count": 18,
   "metadata": {},
   "outputs": [],
   "source": [
    "test.to_csv('data/test.csv', index=False)"
   ]
  },
  {
   "cell_type": "code",
   "execution_count": null,
   "metadata": {},
   "outputs": [],
   "source": []
  },
  {
   "cell_type": "code",
   "execution_count": 19,
   "metadata": {},
   "outputs": [
    {
     "name": "stdout",
     "output_type": "stream",
     "text": [
      "0 0\n",
      "1    3610\n",
      "0    3310\n",
      "Name: label, dtype: int64\n",
      "10 692\n",
      "1    3244\n",
      "0    2984\n",
      "Name: label, dtype: int64\n",
      "20 1384\n",
      "1    2900\n",
      "0    2636\n",
      "Name: label, dtype: int64\n",
      "30 2076\n",
      "1    2546\n",
      "0    2298\n",
      "Name: label, dtype: int64\n",
      "40 2768\n",
      "1    2179\n",
      "0    1973\n",
      "Name: label, dtype: int64\n",
      "50 3460\n",
      "1    1822\n",
      "0    1638\n",
      "Name: label, dtype: int64\n",
      "60 4152\n",
      "1    1445\n",
      "0    1323\n",
      "Name: label, dtype: int64\n",
      "70 4844\n",
      "1    1077\n",
      "0     999\n",
      "Name: label, dtype: int64\n",
      "80 5536\n",
      "1    727\n",
      "0    657\n",
      "Name: label, dtype: int64\n",
      "90 6228\n",
      "1    361\n",
      "0    331\n",
      "Name: label, dtype: int64\n"
     ]
    }
   ],
   "source": [
    "total = len(train)\n",
    "for percentage in range(0, 100, 10):\n",
    "    k = int(total*(percentage/100))\n",
    "    print(percentage, k)\n",
    "    \n",
    "    tmp = train.sample(k, \n",
    "                       random_state=0\n",
    "                      )\n",
    "\n",
    "    tmp = train.drop(tmp.index)\n",
    "    print(tmp['label'].value_counts())\n",
    "    \n",
    "    filename = \"data/random_0/{}.csv\".format(percentage)\n",
    "    os.makedirs(os.path.dirname(filename), exist_ok=True)\n",
    "    \n",
    "    tmp[['label', 'sentence', 'sample_index']].to_csv(filename, index=False)"
   ]
  },
  {
   "cell_type": "code",
   "execution_count": null,
   "metadata": {},
   "outputs": [],
   "source": []
  },
  {
   "cell_type": "code",
   "execution_count": 20,
   "metadata": {},
   "outputs": [
    {
     "name": "stdout",
     "output_type": "stream",
     "text": [
      "0 0\n",
      "1    3610\n",
      "0    3310\n",
      "Name: label, dtype: int64\n",
      "10 692\n",
      "1    3240\n",
      "0    2988\n",
      "Name: label, dtype: int64\n",
      "20 1384\n",
      "1    2886\n",
      "0    2650\n",
      "Name: label, dtype: int64\n",
      "30 2076\n",
      "1    2510\n",
      "0    2334\n",
      "Name: label, dtype: int64\n",
      "40 2768\n",
      "1    2154\n",
      "0    1998\n",
      "Name: label, dtype: int64\n",
      "50 3460\n",
      "1    1784\n",
      "0    1676\n",
      "Name: label, dtype: int64\n",
      "60 4152\n",
      "1    1413\n",
      "0    1355\n",
      "Name: label, dtype: int64\n",
      "70 4844\n",
      "1    1073\n",
      "0    1003\n",
      "Name: label, dtype: int64\n",
      "80 5536\n",
      "1    711\n",
      "0    673\n",
      "Name: label, dtype: int64\n",
      "90 6228\n",
      "1    357\n",
      "0    335\n",
      "Name: label, dtype: int64\n"
     ]
    }
   ],
   "source": [
    "total = len(train)\n",
    "for percentage in range(0, 100, 10):\n",
    "    k = int(total*(percentage/100))\n",
    "    print(percentage, k)\n",
    "    \n",
    "    tmp = train.sample(k, \n",
    "                       random_state=2\n",
    "                      )\n",
    "\n",
    "    tmp = train.drop(tmp.index)\n",
    "    print(tmp['label'].value_counts())\n",
    "    \n",
    "    filename = \"data/random_2/{}.csv\".format(percentage)\n",
    "    os.makedirs(os.path.dirname(filename), exist_ok=True)\n",
    "    \n",
    "    tmp[['label', 'sentence', 'sample_index']].to_csv(filename, index=False)"
   ]
  },
  {
   "cell_type": "code",
   "execution_count": null,
   "metadata": {},
   "outputs": [],
   "source": []
  },
  {
   "cell_type": "code",
   "execution_count": 21,
   "metadata": {},
   "outputs": [
    {
     "name": "stdout",
     "output_type": "stream",
     "text": [
      "0 0\n",
      "1    3610\n",
      "0    3310\n",
      "Name: label, dtype: int64\n",
      "10 692\n",
      "1    3217\n",
      "0    3011\n",
      "Name: label, dtype: int64\n",
      "20 1384\n",
      "1    2846\n",
      "0    2690\n",
      "Name: label, dtype: int64\n",
      "30 2076\n",
      "1    2475\n",
      "0    2369\n",
      "Name: label, dtype: int64\n",
      "40 2768\n",
      "1    2121\n",
      "0    2031\n",
      "Name: label, dtype: int64\n",
      "50 3460\n",
      "1    1761\n",
      "0    1699\n",
      "Name: label, dtype: int64\n",
      "60 4152\n",
      "1    1425\n",
      "0    1343\n",
      "Name: label, dtype: int64\n",
      "70 4844\n",
      "1    1081\n",
      "0     995\n",
      "Name: label, dtype: int64\n",
      "80 5536\n",
      "1    710\n",
      "0    674\n",
      "Name: label, dtype: int64\n",
      "90 6228\n",
      "1    359\n",
      "0    333\n",
      "Name: label, dtype: int64\n"
     ]
    }
   ],
   "source": [
    "total = len(train)\n",
    "for percentage in range(0, 100, 10):\n",
    "    k = int(total*(percentage/100))\n",
    "    print(percentage, k)\n",
    "    \n",
    "    tmp = train.sample(k, \n",
    "                       random_state=42\n",
    "                      )\n",
    "\n",
    "    tmp = train.drop(tmp.index)\n",
    "    print(tmp['label'].value_counts())\n",
    "    \n",
    "    filename = \"data/random/{}.csv\".format(percentage)\n",
    "    os.makedirs(os.path.dirname(filename), exist_ok=True)\n",
    "    \n",
    "    tmp[['label', 'sentence', 'sample_index']].to_csv(filename, index=False)"
   ]
  },
  {
   "cell_type": "code",
   "execution_count": null,
   "metadata": {},
   "outputs": [],
   "source": []
  },
  {
   "cell_type": "code",
   "execution_count": null,
   "metadata": {},
   "outputs": [],
   "source": []
  },
  {
   "cell_type": "code",
   "execution_count": null,
   "metadata": {},
   "outputs": [],
   "source": []
  },
  {
   "cell_type": "code",
   "execution_count": null,
   "metadata": {},
   "outputs": [],
   "source": []
  },
  {
   "cell_type": "code",
   "execution_count": null,
   "metadata": {},
   "outputs": [],
   "source": []
  },
  {
   "cell_type": "code",
   "execution_count": null,
   "metadata": {},
   "outputs": [],
   "source": []
  }
 ],
 "metadata": {
  "kernelspec": {
   "display_name": "Python 3",
   "language": "python",
   "name": "python3"
  },
  "language_info": {
   "codemirror_mode": {
    "name": "ipython",
    "version": 3
   },
   "file_extension": ".py",
   "mimetype": "text/x-python",
   "name": "python",
   "nbconvert_exporter": "python",
   "pygments_lexer": "ipython3",
   "version": "3.6.10"
  }
 },
 "nbformat": 4,
 "nbformat_minor": 4
}
