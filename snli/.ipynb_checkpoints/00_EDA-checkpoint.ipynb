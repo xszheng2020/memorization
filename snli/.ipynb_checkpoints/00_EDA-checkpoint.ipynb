{
 "cells": [
  {
   "cell_type": "code",
   "execution_count": 1,
   "metadata": {},
   "outputs": [],
   "source": [
    "import os"
   ]
  },
  {
   "cell_type": "code",
   "execution_count": 2,
   "metadata": {},
   "outputs": [],
   "source": [
    "random_seed = 42"
   ]
  },
  {
   "cell_type": "code",
   "execution_count": 3,
   "metadata": {},
   "outputs": [],
   "source": [
    "import csv"
   ]
  },
  {
   "cell_type": "code",
   "execution_count": 4,
   "metadata": {},
   "outputs": [],
   "source": [
    "import random\n",
    "random.seed(random_seed)\n",
    "import numpy as np\n",
    "np.random.seed(random_seed)\n",
    "import pandas as pd\n",
    "pd.set_option('max_colwidth', 256)"
   ]
  },
  {
   "cell_type": "code",
   "execution_count": 5,
   "metadata": {},
   "outputs": [],
   "source": [
    "from sklearn.model_selection import train_test_split"
   ]
  },
  {
   "cell_type": "code",
   "execution_count": 6,
   "metadata": {},
   "outputs": [],
   "source": [
    "from sklearn.metrics import classification_report"
   ]
  },
  {
   "cell_type": "code",
   "execution_count": null,
   "metadata": {},
   "outputs": [],
   "source": []
  },
  {
   "cell_type": "code",
   "execution_count": 7,
   "metadata": {},
   "outputs": [],
   "source": [
    "def read_data(filename):\n",
    "    df = pd.read_json(filename, lines=True)\n",
    "    df.dropna()\n",
    "    ####\n",
    "    df = df[['gold_label', 'sentence1', 'sentence2']]\n",
    "    df.columns = ['label', 'sentence1', 'sentence2']\n",
    "    df['label'] = df['label'].map({'contradiction': 0, 'neutral': 0, 'entailment': 1, '-': 3})\n",
    "    df = df[df['label']!=3]    \n",
    "    ####\n",
    "    df_entail = df[df['label']==1]\n",
    "    df_non_entail = df[df['label']==0].sample(len(df_entail), random_state=42) # 变成二分类\n",
    "    df = df_entail.append(df_non_entail)\n",
    "    ####\n",
    "    return df"
   ]
  },
  {
   "cell_type": "code",
   "execution_count": null,
   "metadata": {},
   "outputs": [],
   "source": []
  },
  {
   "cell_type": "code",
   "execution_count": 8,
   "metadata": {},
   "outputs": [],
   "source": [
    "data_path = \"data/SNLI/snli_1.0/\""
   ]
  },
  {
   "cell_type": "code",
   "execution_count": null,
   "metadata": {},
   "outputs": [],
   "source": []
  },
  {
   "cell_type": "code",
   "execution_count": 9,
   "metadata": {},
   "outputs": [
    {
     "name": "stdout",
     "output_type": "stream",
     "text": [
      "<class 'pandas.core.frame.DataFrame'>\n",
      "Int64Index: 366832 entries, 2 to 412095\n",
      "Data columns (total 3 columns):\n",
      "label        366832 non-null int64\n",
      "sentence1    366832 non-null object\n",
      "sentence2    366832 non-null object\n",
      "dtypes: int64(1), object(2)\n",
      "memory usage: 11.2+ MB\n"
     ]
    }
   ],
   "source": [
    "train = read_data(data_path+\"snli_1.0_{}.jsonl\".format('train'))\n",
    "train.info()"
   ]
  },
  {
   "cell_type": "code",
   "execution_count": 10,
   "metadata": {},
   "outputs": [
    {
     "data": {
      "text/plain": [
       "1    183416\n",
       "0    183416\n",
       "Name: label, dtype: int64"
      ]
     },
     "execution_count": 10,
     "metadata": {},
     "output_type": "execute_result"
    }
   ],
   "source": [
    "train['label'].value_counts()"
   ]
  },
  {
   "cell_type": "code",
   "execution_count": null,
   "metadata": {},
   "outputs": [],
   "source": []
  },
  {
   "cell_type": "code",
   "execution_count": 11,
   "metadata": {},
   "outputs": [],
   "source": [
    "pool = train.copy()"
   ]
  },
  {
   "cell_type": "code",
   "execution_count": 12,
   "metadata": {},
   "outputs": [],
   "source": [
    "pool, train = train_test_split(pool, test_size=10000, shuffle=True, random_state=random_seed, stratify=pool['label'])"
   ]
  },
  {
   "cell_type": "code",
   "execution_count": 13,
   "metadata": {},
   "outputs": [
    {
     "name": "stdout",
     "output_type": "stream",
     "text": [
      "<class 'pandas.core.frame.DataFrame'>\n",
      "Int64Index: 10000 entries, 486168 to 262079\n",
      "Data columns (total 3 columns):\n",
      "label        10000 non-null int64\n",
      "sentence1    10000 non-null object\n",
      "sentence2    10000 non-null object\n",
      "dtypes: int64(1), object(2)\n",
      "memory usage: 312.5+ KB\n"
     ]
    }
   ],
   "source": [
    "train.info()"
   ]
  },
  {
   "cell_type": "code",
   "execution_count": null,
   "metadata": {},
   "outputs": [],
   "source": []
  },
  {
   "cell_type": "code",
   "execution_count": 14,
   "metadata": {},
   "outputs": [
    {
     "data": {
      "text/html": [
       "<div>\n",
       "<style scoped>\n",
       "    .dataframe tbody tr th:only-of-type {\n",
       "        vertical-align: middle;\n",
       "    }\n",
       "\n",
       "    .dataframe tbody tr th {\n",
       "        vertical-align: top;\n",
       "    }\n",
       "\n",
       "    .dataframe thead th {\n",
       "        text-align: right;\n",
       "    }\n",
       "</style>\n",
       "<table border=\"1\" class=\"dataframe\">\n",
       "  <thead>\n",
       "    <tr style=\"text-align: right;\">\n",
       "      <th></th>\n",
       "      <th>label</th>\n",
       "      <th>sentence1</th>\n",
       "      <th>sentence2</th>\n",
       "    </tr>\n",
       "  </thead>\n",
       "  <tbody>\n",
       "    <tr>\n",
       "      <th>72346</th>\n",
       "      <td>0</td>\n",
       "      <td>Guy and girl in jackets while guy listens to mobile device</td>\n",
       "      <td>A man and a woman are outside while the male listens to a podcast.</td>\n",
       "    </tr>\n",
       "    <tr>\n",
       "      <th>71431</th>\n",
       "      <td>1</td>\n",
       "      <td>A guy playing a game at a fair.</td>\n",
       "      <td>A male is at the fair</td>\n",
       "    </tr>\n",
       "  </tbody>\n",
       "</table>\n",
       "</div>"
      ],
      "text/plain": [
       "       label                                                   sentence1  \\\n",
       "72346      0  Guy and girl in jackets while guy listens to mobile device   \n",
       "71431      1                             A guy playing a game at a fair.   \n",
       "\n",
       "                                                                sentence2  \n",
       "72346  A man and a woman are outside while the male listens to a podcast.  \n",
       "71431                                               A male is at the fair  "
      ]
     },
     "execution_count": 14,
     "metadata": {},
     "output_type": "execute_result"
    }
   ],
   "source": [
    "train[train['sentence1'].str.contains(\"guy\") & train['sentence2'].str.contains(\"male\")]"
   ]
  },
  {
   "cell_type": "code",
   "execution_count": 15,
   "metadata": {},
   "outputs": [
    {
     "data": {
      "text/html": [
       "<div>\n",
       "<style scoped>\n",
       "    .dataframe tbody tr th:only-of-type {\n",
       "        vertical-align: middle;\n",
       "    }\n",
       "\n",
       "    .dataframe tbody tr th {\n",
       "        vertical-align: top;\n",
       "    }\n",
       "\n",
       "    .dataframe thead th {\n",
       "        text-align: right;\n",
       "    }\n",
       "</style>\n",
       "<table border=\"1\" class=\"dataframe\">\n",
       "  <thead>\n",
       "    <tr style=\"text-align: right;\">\n",
       "      <th></th>\n",
       "      <th>label</th>\n",
       "      <th>sentence1</th>\n",
       "      <th>sentence2</th>\n",
       "    </tr>\n",
       "  </thead>\n",
       "  <tbody>\n",
       "    <tr>\n",
       "      <th>359615</th>\n",
       "      <td>1</td>\n",
       "      <td>A black-haired male is playing a video system on his computer while wearing a watch.</td>\n",
       "      <td>a guy plays video games</td>\n",
       "    </tr>\n",
       "  </tbody>\n",
       "</table>\n",
       "</div>"
      ],
      "text/plain": [
       "        label  \\\n",
       "359615      1   \n",
       "\n",
       "                                                                                   sentence1  \\\n",
       "359615  A black-haired male is playing a video system on his computer while wearing a watch.   \n",
       "\n",
       "                      sentence2  \n",
       "359615  a guy plays video games  "
      ]
     },
     "execution_count": 15,
     "metadata": {},
     "output_type": "execute_result"
    }
   ],
   "source": [
    "train[train['sentence2'].str.contains(\"guy\") & train['sentence1'].str.contains(\"male\")]"
   ]
  },
  {
   "cell_type": "code",
   "execution_count": null,
   "metadata": {},
   "outputs": [],
   "source": []
  },
  {
   "cell_type": "code",
   "execution_count": 16,
   "metadata": {},
   "outputs": [
    {
     "data": {
      "text/html": [
       "<div>\n",
       "<style scoped>\n",
       "    .dataframe tbody tr th:only-of-type {\n",
       "        vertical-align: middle;\n",
       "    }\n",
       "\n",
       "    .dataframe tbody tr th {\n",
       "        vertical-align: top;\n",
       "    }\n",
       "\n",
       "    .dataframe thead th {\n",
       "        text-align: right;\n",
       "    }\n",
       "</style>\n",
       "<table border=\"1\" class=\"dataframe\">\n",
       "  <thead>\n",
       "    <tr style=\"text-align: right;\">\n",
       "      <th></th>\n",
       "      <th>label</th>\n",
       "      <th>sentence1</th>\n",
       "      <th>sentence2</th>\n",
       "    </tr>\n",
       "  </thead>\n",
       "  <tbody>\n",
       "    <tr>\n",
       "      <th>29479</th>\n",
       "      <td>0</td>\n",
       "      <td>A black man holding a basketball while listening to music on his iPod.</td>\n",
       "      <td>A white man holding a basketball while listening to music on his iPod.</td>\n",
       "    </tr>\n",
       "    <tr>\n",
       "      <th>289352</th>\n",
       "      <td>0</td>\n",
       "      <td>A man sits on a folding chair outside while listening to music on his iPod.</td>\n",
       "      <td>The man stands on the sidewalk listening to the marching band that is passing by.</td>\n",
       "    </tr>\n",
       "    <tr>\n",
       "      <th>68801</th>\n",
       "      <td>1</td>\n",
       "      <td>A slender young caucasian female walks while listening to music through her headphones and iPod during a bright sunny day.</td>\n",
       "      <td>There is a female walking while listening to music on her headphones.</td>\n",
       "    </tr>\n",
       "    <tr>\n",
       "      <th>289350</th>\n",
       "      <td>1</td>\n",
       "      <td>A man sits on a folding chair outside while listening to music on his iPod.</td>\n",
       "      <td>There is a man on a chair listening to music on an mp3 player.</td>\n",
       "    </tr>\n",
       "  </tbody>\n",
       "</table>\n",
       "</div>"
      ],
      "text/plain": [
       "        label  \\\n",
       "29479       0   \n",
       "289352      0   \n",
       "68801       1   \n",
       "289350      1   \n",
       "\n",
       "                                                                                                                         sentence1  \\\n",
       "29479                                                       A black man holding a basketball while listening to music on his iPod.   \n",
       "289352                                                 A man sits on a folding chair outside while listening to music on his iPod.   \n",
       "68801   A slender young caucasian female walks while listening to music through her headphones and iPod during a bright sunny day.   \n",
       "289350                                                 A man sits on a folding chair outside while listening to music on his iPod.   \n",
       "\n",
       "                                                                                sentence2  \n",
       "29479              A white man holding a basketball while listening to music on his iPod.  \n",
       "289352  The man stands on the sidewalk listening to the marching band that is passing by.  \n",
       "68801               There is a female walking while listening to music on her headphones.  \n",
       "289350                     There is a man on a chair listening to music on an mp3 player.  "
      ]
     },
     "execution_count": 16,
     "metadata": {},
     "output_type": "execute_result"
    }
   ],
   "source": [
    "train[train['sentence1'].str.contains(\"iPod\")]"
   ]
  },
  {
   "cell_type": "code",
   "execution_count": 38,
   "metadata": {},
   "outputs": [
    {
     "data": {
      "text/html": [
       "<div>\n",
       "<style scoped>\n",
       "    .dataframe tbody tr th:only-of-type {\n",
       "        vertical-align: middle;\n",
       "    }\n",
       "\n",
       "    .dataframe tbody tr th {\n",
       "        vertical-align: top;\n",
       "    }\n",
       "\n",
       "    .dataframe thead th {\n",
       "        text-align: right;\n",
       "    }\n",
       "</style>\n",
       "<table border=\"1\" class=\"dataframe\">\n",
       "  <thead>\n",
       "    <tr style=\"text-align: right;\">\n",
       "      <th></th>\n",
       "      <th>label</th>\n",
       "      <th>sentence1</th>\n",
       "      <th>sentence2</th>\n",
       "    </tr>\n",
       "  </thead>\n",
       "  <tbody>\n",
       "    <tr>\n",
       "      <th>289350</th>\n",
       "      <td>1</td>\n",
       "      <td>A man sits on a folding chair outside while listening to music on his iPod.</td>\n",
       "      <td>There is a man on a chair listening to music on an mp3 player.</td>\n",
       "    </tr>\n",
       "  </tbody>\n",
       "</table>\n",
       "</div>"
      ],
      "text/plain": [
       "        label  \\\n",
       "289350      1   \n",
       "\n",
       "                                                                          sentence1  \\\n",
       "289350  A man sits on a folding chair outside while listening to music on his iPod.   \n",
       "\n",
       "                                                             sentence2  \n",
       "289350  There is a man on a chair listening to music on an mp3 player.  "
      ]
     },
     "execution_count": 38,
     "metadata": {},
     "output_type": "execute_result"
    }
   ],
   "source": [
    "train[train['sentence1'].str.contains(\"iPod\") & train['sentence2'].str.contains(\"mp3\")]"
   ]
  },
  {
   "cell_type": "code",
   "execution_count": 39,
   "metadata": {},
   "outputs": [
    {
     "data": {
      "text/html": [
       "<div>\n",
       "<style scoped>\n",
       "    .dataframe tbody tr th:only-of-type {\n",
       "        vertical-align: middle;\n",
       "    }\n",
       "\n",
       "    .dataframe tbody tr th {\n",
       "        vertical-align: top;\n",
       "    }\n",
       "\n",
       "    .dataframe thead th {\n",
       "        text-align: right;\n",
       "    }\n",
       "</style>\n",
       "<table border=\"1\" class=\"dataframe\">\n",
       "  <thead>\n",
       "    <tr style=\"text-align: right;\">\n",
       "      <th></th>\n",
       "      <th>label</th>\n",
       "      <th>sentence1</th>\n",
       "      <th>sentence2</th>\n",
       "    </tr>\n",
       "  </thead>\n",
       "  <tbody>\n",
       "  </tbody>\n",
       "</table>\n",
       "</div>"
      ],
      "text/plain": [
       "Empty DataFrame\n",
       "Columns: [label, sentence1, sentence2]\n",
       "Index: []"
      ]
     },
     "execution_count": 39,
     "metadata": {},
     "output_type": "execute_result"
    }
   ],
   "source": [
    "train[train['sentence2'].str.contains(\"iPod\") & train['sentence1'].str.contains(\"mp3\")]"
   ]
  },
  {
   "cell_type": "code",
   "execution_count": null,
   "metadata": {},
   "outputs": [],
   "source": []
  },
  {
   "cell_type": "code",
   "execution_count": null,
   "metadata": {},
   "outputs": [],
   "source": []
  },
  {
   "cell_type": "code",
   "execution_count": 14,
   "metadata": {},
   "outputs": [
    {
     "name": "stdout",
     "output_type": "stream",
     "text": [
      "<class 'pandas.core.frame.DataFrame'>\n",
      "Int64Index: 6658 entries, 1 to 5352\n",
      "Data columns (total 3 columns):\n",
      "label        6658 non-null int64\n",
      "sentence1    6658 non-null object\n",
      "sentence2    6658 non-null object\n",
      "dtypes: int64(1), object(2)\n",
      "memory usage: 208.1+ KB\n"
     ]
    }
   ],
   "source": [
    "dev = read_data(data_path+\"snli_1.0_{}.jsonl\".format('dev'))\n",
    "dev.info()"
   ]
  },
  {
   "cell_type": "code",
   "execution_count": null,
   "metadata": {},
   "outputs": [],
   "source": []
  },
  {
   "cell_type": "code",
   "execution_count": 15,
   "metadata": {},
   "outputs": [
    {
     "name": "stdout",
     "output_type": "stream",
     "text": [
      "<class 'pandas.core.frame.DataFrame'>\n",
      "Int64Index: 6736 entries, 1 to 6141\n",
      "Data columns (total 3 columns):\n",
      "label        6736 non-null int64\n",
      "sentence1    6736 non-null object\n",
      "sentence2    6736 non-null object\n",
      "dtypes: int64(1), object(2)\n",
      "memory usage: 210.5+ KB\n"
     ]
    }
   ],
   "source": [
    "test = read_data(data_path+\"snli_1.0_{}.jsonl\".format('test'))\n",
    "test.info()"
   ]
  },
  {
   "cell_type": "code",
   "execution_count": null,
   "metadata": {},
   "outputs": [],
   "source": []
  },
  {
   "cell_type": "code",
   "execution_count": 16,
   "metadata": {},
   "outputs": [
    {
     "data": {
      "text/html": [
       "<div>\n",
       "<style scoped>\n",
       "    .dataframe tbody tr th:only-of-type {\n",
       "        vertical-align: middle;\n",
       "    }\n",
       "\n",
       "    .dataframe tbody tr th {\n",
       "        vertical-align: top;\n",
       "    }\n",
       "\n",
       "    .dataframe thead th {\n",
       "        text-align: right;\n",
       "    }\n",
       "</style>\n",
       "<table border=\"1\" class=\"dataframe\">\n",
       "  <thead>\n",
       "    <tr style=\"text-align: right;\">\n",
       "      <th></th>\n",
       "      <th>label</th>\n",
       "      <th>sentence1</th>\n",
       "      <th>sentence2</th>\n",
       "      <th>sample_index</th>\n",
       "    </tr>\n",
       "  </thead>\n",
       "  <tbody>\n",
       "    <tr>\n",
       "      <th>486168</th>\n",
       "      <td>1</td>\n",
       "      <td>A military branch prepare for their duties.</td>\n",
       "      <td>a child was there</td>\n",
       "      <td>0</td>\n",
       "    </tr>\n",
       "    <tr>\n",
       "      <th>340138</th>\n",
       "      <td>1</td>\n",
       "      <td>A person in makeup in a traditional ceremony.</td>\n",
       "      <td>A person takes part in a traditional ritual</td>\n",
       "      <td>1</td>\n",
       "    </tr>\n",
       "    <tr>\n",
       "      <th>275007</th>\n",
       "      <td>0</td>\n",
       "      <td>A man stands outside a blue building holding a white helmet.</td>\n",
       "      <td>A man is laying in a hammock that is strung between trees in his backyard.</td>\n",
       "      <td>2</td>\n",
       "    </tr>\n",
       "    <tr>\n",
       "      <th>458835</th>\n",
       "      <td>1</td>\n",
       "      <td>The girl in pink does a midair leg splits.</td>\n",
       "      <td>The girl in pink is flexible.</td>\n",
       "      <td>3</td>\n",
       "    </tr>\n",
       "    <tr>\n",
       "      <th>479397</th>\n",
       "      <td>1</td>\n",
       "      <td>A woman with orange hair sitting behind a table with Tye-dyed t-shirts on them.</td>\n",
       "      <td>A woman with orange hair.</td>\n",
       "      <td>4</td>\n",
       "    </tr>\n",
       "  </tbody>\n",
       "</table>\n",
       "</div>"
      ],
      "text/plain": [
       "        label  \\\n",
       "486168      1   \n",
       "340138      1   \n",
       "275007      0   \n",
       "458835      1   \n",
       "479397      1   \n",
       "\n",
       "                                                                              sentence1  \\\n",
       "486168                                      A military branch prepare for their duties.   \n",
       "340138                                    A person in makeup in a traditional ceremony.   \n",
       "275007                     A man stands outside a blue building holding a white helmet.   \n",
       "458835                                       The girl in pink does a midair leg splits.   \n",
       "479397  A woman with orange hair sitting behind a table with Tye-dyed t-shirts on them.   \n",
       "\n",
       "                                                                         sentence2  \\\n",
       "486168                                                           a child was there   \n",
       "340138                                 A person takes part in a traditional ritual   \n",
       "275007  A man is laying in a hammock that is strung between trees in his backyard.   \n",
       "458835                                               The girl in pink is flexible.   \n",
       "479397                                                   A woman with orange hair.   \n",
       "\n",
       "        sample_index  \n",
       "486168             0  \n",
       "340138             1  \n",
       "275007             2  \n",
       "458835             3  \n",
       "479397             4  "
      ]
     },
     "execution_count": 16,
     "metadata": {},
     "output_type": "execute_result"
    }
   ],
   "source": [
    "train['sample_index'] =  list(range(len(train)))\n",
    "train.head()"
   ]
  },
  {
   "cell_type": "code",
   "execution_count": 17,
   "metadata": {},
   "outputs": [
    {
     "data": {
      "text/html": [
       "<div>\n",
       "<style scoped>\n",
       "    .dataframe tbody tr th:only-of-type {\n",
       "        vertical-align: middle;\n",
       "    }\n",
       "\n",
       "    .dataframe tbody tr th {\n",
       "        vertical-align: top;\n",
       "    }\n",
       "\n",
       "    .dataframe thead th {\n",
       "        text-align: right;\n",
       "    }\n",
       "</style>\n",
       "<table border=\"1\" class=\"dataframe\">\n",
       "  <thead>\n",
       "    <tr style=\"text-align: right;\">\n",
       "      <th></th>\n",
       "      <th>label</th>\n",
       "      <th>sentence1</th>\n",
       "      <th>sentence2</th>\n",
       "      <th>sample_index</th>\n",
       "    </tr>\n",
       "  </thead>\n",
       "  <tbody>\n",
       "    <tr>\n",
       "      <th>139507</th>\n",
       "      <td>1</td>\n",
       "      <td>A young man who loves nature.</td>\n",
       "      <td>A person loves nature.</td>\n",
       "      <td>9995</td>\n",
       "    </tr>\n",
       "    <tr>\n",
       "      <th>213909</th>\n",
       "      <td>1</td>\n",
       "      <td>Two people with dark jackets are sitting beside each other.</td>\n",
       "      <td>Two people are sitting next to each other.</td>\n",
       "      <td>9996</td>\n",
       "    </tr>\n",
       "    <tr>\n",
       "      <th>290513</th>\n",
       "      <td>1</td>\n",
       "      <td>A happy couple sitting together.</td>\n",
       "      <td>A couple is sitting together smiling.</td>\n",
       "      <td>9997</td>\n",
       "    </tr>\n",
       "    <tr>\n",
       "      <th>44491</th>\n",
       "      <td>1</td>\n",
       "      <td>A young man in a black hoodie is sitting on a curb.</td>\n",
       "      <td>A young person in a black hoodie is sitting on a curb.</td>\n",
       "      <td>9998</td>\n",
       "    </tr>\n",
       "    <tr>\n",
       "      <th>262079</th>\n",
       "      <td>0</td>\n",
       "      <td>A little boy lying down looking under a table.</td>\n",
       "      <td>a little boy stands on the table.</td>\n",
       "      <td>9999</td>\n",
       "    </tr>\n",
       "  </tbody>\n",
       "</table>\n",
       "</div>"
      ],
      "text/plain": [
       "        label                                                    sentence1  \\\n",
       "139507      1                                A young man who loves nature.   \n",
       "213909      1  Two people with dark jackets are sitting beside each other.   \n",
       "290513      1                             A happy couple sitting together.   \n",
       "44491       1          A young man in a black hoodie is sitting on a curb.   \n",
       "262079      0               A little boy lying down looking under a table.   \n",
       "\n",
       "                                                     sentence2  sample_index  \n",
       "139507                                  A person loves nature.          9995  \n",
       "213909              Two people are sitting next to each other.          9996  \n",
       "290513                   A couple is sitting together smiling.          9997  \n",
       "44491   A young person in a black hoodie is sitting on a curb.          9998  \n",
       "262079                       a little boy stands on the table.          9999  "
      ]
     },
     "execution_count": 17,
     "metadata": {},
     "output_type": "execute_result"
    }
   ],
   "source": [
    "train.tail()"
   ]
  },
  {
   "cell_type": "code",
   "execution_count": 18,
   "metadata": {},
   "outputs": [
    {
     "data": {
      "text/plain": [
       "1    5000\n",
       "0    5000\n",
       "Name: label, dtype: int64"
      ]
     },
     "execution_count": 18,
     "metadata": {},
     "output_type": "execute_result"
    }
   ],
   "source": [
    "train['label'].value_counts()"
   ]
  },
  {
   "cell_type": "code",
   "execution_count": null,
   "metadata": {},
   "outputs": [],
   "source": []
  },
  {
   "cell_type": "code",
   "execution_count": 18,
   "metadata": {},
   "outputs": [
    {
     "data": {
      "text/html": [
       "<div>\n",
       "<style scoped>\n",
       "    .dataframe tbody tr th:only-of-type {\n",
       "        vertical-align: middle;\n",
       "    }\n",
       "\n",
       "    .dataframe tbody tr th {\n",
       "        vertical-align: top;\n",
       "    }\n",
       "\n",
       "    .dataframe thead th {\n",
       "        text-align: right;\n",
       "    }\n",
       "</style>\n",
       "<table border=\"1\" class=\"dataframe\">\n",
       "  <thead>\n",
       "    <tr style=\"text-align: right;\">\n",
       "      <th></th>\n",
       "      <th>label</th>\n",
       "      <th>sentence1</th>\n",
       "      <th>sentence2</th>\n",
       "      <th>sample_index</th>\n",
       "    </tr>\n",
       "  </thead>\n",
       "  <tbody>\n",
       "    <tr>\n",
       "      <th>1</th>\n",
       "      <td>1</td>\n",
       "      <td>Two women are embracing while holding to go packages.</td>\n",
       "      <td>Two woman are holding packages.</td>\n",
       "      <td>0</td>\n",
       "    </tr>\n",
       "    <tr>\n",
       "      <th>3</th>\n",
       "      <td>1</td>\n",
       "      <td>Two young children in blue jerseys, one with the number 9 and one with the number 2 are standing on wooden steps in a bathroom and washing their hands in a sink.</td>\n",
       "      <td>Two kids in numbered jerseys wash their hands.</td>\n",
       "      <td>1</td>\n",
       "    </tr>\n",
       "    <tr>\n",
       "      <th>8</th>\n",
       "      <td>1</td>\n",
       "      <td>A man selling donuts to a customer during a world exhibition event held in the city of Angeles</td>\n",
       "      <td>A man selling donuts to a customer.</td>\n",
       "      <td>2</td>\n",
       "    </tr>\n",
       "    <tr>\n",
       "      <th>9</th>\n",
       "      <td>1</td>\n",
       "      <td>Two young boys of opposing teams play football, while wearing full protection uniforms and helmets.</td>\n",
       "      <td>boys play football</td>\n",
       "      <td>3</td>\n",
       "    </tr>\n",
       "    <tr>\n",
       "      <th>13</th>\n",
       "      <td>1</td>\n",
       "      <td>A man in a blue shirt standing in front of a garage-like structure painted with geometric designs.</td>\n",
       "      <td>A man is wearing a blue shirt</td>\n",
       "      <td>4</td>\n",
       "    </tr>\n",
       "  </tbody>\n",
       "</table>\n",
       "</div>"
      ],
      "text/plain": [
       "    label  \\\n",
       "1       1   \n",
       "3       1   \n",
       "8       1   \n",
       "9       1   \n",
       "13      1   \n",
       "\n",
       "                                                                                                                                                            sentence1  \\\n",
       "1                                                                                                               Two women are embracing while holding to go packages.   \n",
       "3   Two young children in blue jerseys, one with the number 9 and one with the number 2 are standing on wooden steps in a bathroom and washing their hands in a sink.   \n",
       "8                                                                      A man selling donuts to a customer during a world exhibition event held in the city of Angeles   \n",
       "9                                                                 Two young boys of opposing teams play football, while wearing full protection uniforms and helmets.   \n",
       "13                                                                 A man in a blue shirt standing in front of a garage-like structure painted with geometric designs.   \n",
       "\n",
       "                                         sentence2  sample_index  \n",
       "1                  Two woman are holding packages.             0  \n",
       "3   Two kids in numbered jerseys wash their hands.             1  \n",
       "8              A man selling donuts to a customer.             2  \n",
       "9                               boys play football             3  \n",
       "13                   A man is wearing a blue shirt             4  "
      ]
     },
     "execution_count": 18,
     "metadata": {},
     "output_type": "execute_result"
    }
   ],
   "source": [
    "dev['sample_index'] = list(range(len(dev)))\n",
    "dev.head()"
   ]
  },
  {
   "cell_type": "code",
   "execution_count": 19,
   "metadata": {},
   "outputs": [
    {
     "data": {
      "text/plain": [
       "1    3329\n",
       "0    3329\n",
       "Name: label, dtype: int64"
      ]
     },
     "execution_count": 19,
     "metadata": {},
     "output_type": "execute_result"
    }
   ],
   "source": [
    "dev['label'].value_counts()"
   ]
  },
  {
   "cell_type": "code",
   "execution_count": null,
   "metadata": {},
   "outputs": [],
   "source": []
  },
  {
   "cell_type": "code",
   "execution_count": 20,
   "metadata": {},
   "outputs": [
    {
     "data": {
      "text/html": [
       "<div>\n",
       "<style scoped>\n",
       "    .dataframe tbody tr th:only-of-type {\n",
       "        vertical-align: middle;\n",
       "    }\n",
       "\n",
       "    .dataframe tbody tr th {\n",
       "        vertical-align: top;\n",
       "    }\n",
       "\n",
       "    .dataframe thead th {\n",
       "        text-align: right;\n",
       "    }\n",
       "</style>\n",
       "<table border=\"1\" class=\"dataframe\">\n",
       "  <thead>\n",
       "    <tr style=\"text-align: right;\">\n",
       "      <th></th>\n",
       "      <th>label</th>\n",
       "      <th>sentence1</th>\n",
       "      <th>sentence2</th>\n",
       "      <th>sample_index</th>\n",
       "    </tr>\n",
       "  </thead>\n",
       "  <tbody>\n",
       "    <tr>\n",
       "      <th>1</th>\n",
       "      <td>1</td>\n",
       "      <td>This church choir sings to the masses as they sing joyous songs from the book at a church.</td>\n",
       "      <td>The church is filled with song.</td>\n",
       "      <td>0</td>\n",
       "    </tr>\n",
       "    <tr>\n",
       "      <th>4</th>\n",
       "      <td>1</td>\n",
       "      <td>A woman with a green headscarf, blue shirt and a very big grin.</td>\n",
       "      <td>The woman is very happy.</td>\n",
       "      <td>1</td>\n",
       "    </tr>\n",
       "    <tr>\n",
       "      <th>6</th>\n",
       "      <td>1</td>\n",
       "      <td>An old man with a package poses in front of an advertisement.</td>\n",
       "      <td>A man poses in front of an ad.</td>\n",
       "      <td>2</td>\n",
       "    </tr>\n",
       "    <tr>\n",
       "      <th>10</th>\n",
       "      <td>1</td>\n",
       "      <td>A statue at a museum that no seems to be looking at.</td>\n",
       "      <td>There is a statue that not many people seem to be interested in.</td>\n",
       "      <td>3</td>\n",
       "    </tr>\n",
       "    <tr>\n",
       "      <th>12</th>\n",
       "      <td>1</td>\n",
       "      <td>A land rover is being driven across a river.</td>\n",
       "      <td>A Land Rover is splashing water as it crosses a river.</td>\n",
       "      <td>4</td>\n",
       "    </tr>\n",
       "  </tbody>\n",
       "</table>\n",
       "</div>"
      ],
      "text/plain": [
       "    label  \\\n",
       "1       1   \n",
       "4       1   \n",
       "6       1   \n",
       "10      1   \n",
       "12      1   \n",
       "\n",
       "                                                                                     sentence1  \\\n",
       "1   This church choir sings to the masses as they sing joyous songs from the book at a church.   \n",
       "4                              A woman with a green headscarf, blue shirt and a very big grin.   \n",
       "6                                An old man with a package poses in front of an advertisement.   \n",
       "10                                        A statue at a museum that no seems to be looking at.   \n",
       "12                                                A land rover is being driven across a river.   \n",
       "\n",
       "                                                           sentence2  \\\n",
       "1                                    The church is filled with song.   \n",
       "4                                           The woman is very happy.   \n",
       "6                                     A man poses in front of an ad.   \n",
       "10  There is a statue that not many people seem to be interested in.   \n",
       "12            A Land Rover is splashing water as it crosses a river.   \n",
       "\n",
       "    sample_index  \n",
       "1              0  \n",
       "4              1  \n",
       "6              2  \n",
       "10             3  \n",
       "12             4  "
      ]
     },
     "execution_count": 20,
     "metadata": {},
     "output_type": "execute_result"
    }
   ],
   "source": [
    "test['sample_index'] = list(range(len(test)))\n",
    "test.head()"
   ]
  },
  {
   "cell_type": "code",
   "execution_count": 21,
   "metadata": {},
   "outputs": [
    {
     "data": {
      "text/plain": [
       "1    3368\n",
       "0    3368\n",
       "Name: label, dtype: int64"
      ]
     },
     "execution_count": 21,
     "metadata": {},
     "output_type": "execute_result"
    }
   ],
   "source": [
    "test['label'].value_counts()"
   ]
  },
  {
   "cell_type": "code",
   "execution_count": null,
   "metadata": {},
   "outputs": [],
   "source": []
  },
  {
   "cell_type": "code",
   "execution_count": 22,
   "metadata": {},
   "outputs": [],
   "source": [
    "train.to_csv('data/train.csv', index=False)\n",
    "dev.to_csv('data/dev.csv', index=False)\n",
    "test.to_csv('data/test.csv', index=False)"
   ]
  },
  {
   "cell_type": "code",
   "execution_count": null,
   "metadata": {},
   "outputs": [],
   "source": []
  },
  {
   "cell_type": "code",
   "execution_count": 23,
   "metadata": {},
   "outputs": [
    {
     "name": "stdout",
     "output_type": "stream",
     "text": [
      "0 0\n",
      "1    5000\n",
      "0    5000\n",
      "Name: label, dtype: int64\n",
      "10 1000\n",
      "0    4513\n",
      "1    4487\n",
      "Name: label, dtype: int64\n",
      "20 2000\n",
      "0    4007\n",
      "1    3993\n",
      "Name: label, dtype: int64\n",
      "30 3000\n",
      "0    3508\n",
      "1    3492\n",
      "Name: label, dtype: int64\n",
      "40 4000\n",
      "1    3004\n",
      "0    2996\n",
      "Name: label, dtype: int64\n",
      "50 5000\n",
      "1    2530\n",
      "0    2470\n",
      "Name: label, dtype: int64\n",
      "60 6000\n",
      "1    2046\n",
      "0    1954\n",
      "Name: label, dtype: int64\n",
      "70 7000\n",
      "1    1526\n",
      "0    1474\n",
      "Name: label, dtype: int64\n",
      "80 8000\n",
      "1    1004\n",
      "0     996\n",
      "Name: label, dtype: int64\n",
      "90 9000\n",
      "1    509\n",
      "0    491\n",
      "Name: label, dtype: int64\n"
     ]
    }
   ],
   "source": [
    "total = len(train)\n",
    "for percentage in range(0, 100, 10):\n",
    "    k = int(total*(percentage/100))\n",
    "    print(percentage, k)\n",
    "    \n",
    "    tmp = train.sample(k, \n",
    "                       random_state=0\n",
    "                      )\n",
    "    \n",
    "    tmp = train.drop(tmp.index)\n",
    "    print(tmp['label'].value_counts())\n",
    "    \n",
    "    filename = \"data/random_0/{}.csv\".format(percentage)\n",
    "    os.makedirs(os.path.dirname(filename), exist_ok=True)\n",
    "    \n",
    "    tmp[['label', 'sentence1', 'sentence2', 'sample_index']].to_csv(filename, index=False)"
   ]
  },
  {
   "cell_type": "code",
   "execution_count": 24,
   "metadata": {},
   "outputs": [
    {
     "name": "stdout",
     "output_type": "stream",
     "text": [
      "0 0\n",
      "1    5000\n",
      "0    5000\n",
      "Name: label, dtype: int64\n",
      "10 1000\n",
      "1    4517\n",
      "0    4483\n",
      "Name: label, dtype: int64\n",
      "20 2000\n",
      "1    4030\n",
      "0    3970\n",
      "Name: label, dtype: int64\n",
      "30 3000\n",
      "1    3529\n",
      "0    3471\n",
      "Name: label, dtype: int64\n",
      "40 4000\n",
      "1    3014\n",
      "0    2986\n",
      "Name: label, dtype: int64\n",
      "50 5000\n",
      "0    2501\n",
      "1    2499\n",
      "Name: label, dtype: int64\n",
      "60 6000\n",
      "1    2014\n",
      "0    1986\n",
      "Name: label, dtype: int64\n",
      "70 7000\n",
      "1    1520\n",
      "0    1480\n",
      "Name: label, dtype: int64\n",
      "80 8000\n",
      "1    1026\n",
      "0     974\n",
      "Name: label, dtype: int64\n",
      "90 9000\n",
      "0    503\n",
      "1    497\n",
      "Name: label, dtype: int64\n"
     ]
    }
   ],
   "source": [
    "total = len(train)\n",
    "for percentage in range(0, 100, 10):\n",
    "    k = int(total*(percentage/100))\n",
    "    print(percentage, k)\n",
    "    \n",
    "    tmp = train.sample(k, \n",
    "                       random_state=2\n",
    "                      )\n",
    "\n",
    "    tmp = train.drop(tmp.index)\n",
    "    print(tmp['label'].value_counts())\n",
    "    \n",
    "    filename = \"data/random_2/{}.csv\".format(percentage)\n",
    "    os.makedirs(os.path.dirname(filename), exist_ok=True)\n",
    "    \n",
    "    tmp[['label', 'sentence1', 'sentence2', 'sample_index']].to_csv(filename, index=False)"
   ]
  },
  {
   "cell_type": "code",
   "execution_count": 25,
   "metadata": {},
   "outputs": [
    {
     "name": "stdout",
     "output_type": "stream",
     "text": [
      "0 0\n",
      "1    5000\n",
      "0    5000\n",
      "Name: label, dtype: int64\n",
      "10 1000\n",
      "0    4503\n",
      "1    4497\n",
      "Name: label, dtype: int64\n",
      "20 2000\n",
      "1    4009\n",
      "0    3991\n",
      "Name: label, dtype: int64\n",
      "30 3000\n",
      "1    3521\n",
      "0    3479\n",
      "Name: label, dtype: int64\n",
      "40 4000\n",
      "1    3032\n",
      "0    2968\n",
      "Name: label, dtype: int64\n",
      "50 5000\n",
      "1    2541\n",
      "0    2459\n",
      "Name: label, dtype: int64\n",
      "60 6000\n",
      "1    2017\n",
      "0    1983\n",
      "Name: label, dtype: int64\n",
      "70 7000\n",
      "1    1501\n",
      "0    1499\n",
      "Name: label, dtype: int64\n",
      "80 8000\n",
      "0    1003\n",
      "1     997\n",
      "Name: label, dtype: int64\n",
      "90 9000\n",
      "0    519\n",
      "1    481\n",
      "Name: label, dtype: int64\n"
     ]
    }
   ],
   "source": [
    "total = len(train)\n",
    "for percentage in range(0, 100, 10):\n",
    "    k = int(total*(percentage/100))\n",
    "    print(percentage, k)\n",
    "    \n",
    "    tmp = train.sample(k, \n",
    "                       random_state=42\n",
    "                      )\n",
    "    \n",
    "    tmp = train.drop(tmp.index)\n",
    "    print(tmp['label'].value_counts())\n",
    "    \n",
    "    filename = \"data/random/{}.csv\".format(percentage)\n",
    "    os.makedirs(os.path.dirname(filename), exist_ok=True)\n",
    "    \n",
    "    tmp[['label', 'sentence1', 'sentence2', 'sample_index']].to_csv(filename, index=False)"
   ]
  },
  {
   "cell_type": "code",
   "execution_count": null,
   "metadata": {},
   "outputs": [],
   "source": []
  }
 ],
 "metadata": {
  "kernelspec": {
   "display_name": "Python 3",
   "language": "python",
   "name": "python3"
  },
  "language_info": {
   "codemirror_mode": {
    "name": "ipython",
    "version": 3
   },
   "file_extension": ".py",
   "mimetype": "text/x-python",
   "name": "python",
   "nbconvert_exporter": "python",
   "pygments_lexer": "ipython3",
   "version": "3.6.10"
  }
 },
 "nbformat": 4,
 "nbformat_minor": 4
}
